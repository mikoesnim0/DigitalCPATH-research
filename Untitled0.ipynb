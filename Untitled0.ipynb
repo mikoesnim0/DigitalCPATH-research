{
  "nbformat": 4,
  "nbformat_minor": 0,
  "metadata": {
    "colab": {
      "provenance": [],
      "mount_file_id": "1yxypzsVIOM1uAViID_1VhXjh3iDrjtj5",
      "authorship_tag": "ABX9TyN+leuwp5zXA2+mhloEVrHF",
      "include_colab_link": true
    },
    "kernelspec": {
      "name": "python3",
      "display_name": "Python 3"
    },
    "language_info": {
      "name": "python"
    }
  },
  "cells": [
    {
      "cell_type": "markdown",
      "metadata": {
        "id": "view-in-github",
        "colab_type": "text"
      },
      "source": [
        "<a href=\"https://colab.research.google.com/github/mikoesnim0/DigitalCPATH-research/blob/main/Untitled0.ipynb\" target=\"_parent\"><img src=\"https://colab.research.google.com/assets/colab-badge.svg\" alt=\"Open In Colab\"/></a>"
      ]
    },
    {
      "cell_type": "code",
      "source": [
        "!git clone https://github.com/mikoesnim0/DigitalCPATH-research.git"
      ],
      "metadata": {
        "colab": {
          "base_uri": "https://localhost:8080/"
        },
        "id": "CJyxEf1TKz5e",
        "outputId": "19102d64-c981-4182-be70-e80c18d7e1d6"
      },
      "execution_count": 1,
      "outputs": [
        {
          "output_type": "stream",
          "name": "stdout",
          "text": [
            "Cloning into 'DigitalCPATH-research'...\n",
            "remote: Enumerating objects: 36, done.\u001b[K\n",
            "remote: Counting objects: 100% (36/36), done.\u001b[K\n",
            "remote: Compressing objects: 100% (33/33), done.\u001b[K\n",
            "remote: Total 36 (delta 14), reused 8 (delta 1), pack-reused 0\u001b[K\n",
            "Receiving objects: 100% (36/36), 48.70 KiB | 1.74 MiB/s, done.\n",
            "Resolving deltas: 100% (14/14), done.\n"
          ]
        }
      ]
    },
    {
      "cell_type": "code",
      "execution_count": 3,
      "metadata": {
        "colab": {
          "base_uri": "https://localhost:8080/"
        },
        "id": "PSFGOI3aKjIe",
        "outputId": "753eecf8-88da-43e5-dc96-a34c27db8a96"
      },
      "outputs": [
        {
          "output_type": "stream",
          "name": "stdout",
          "text": [
            "mv: cannot stat '/content/DigitalCPATH-research/ImgeTile512.ipynb': No such file or directory\n"
          ]
        }
      ],
      "source": [
        "!mv \"/content/DigitalCPATH-research/ImgeTile512.ipynb\" \"/content/drive/MyDrive/Colab Notebooks\""
      ]
    },
    {
      "cell_type": "code",
      "source": [],
      "metadata": {
        "id": "Z24J4H6sK3Em"
      },
      "execution_count": 2,
      "outputs": []
    }
  ]
}