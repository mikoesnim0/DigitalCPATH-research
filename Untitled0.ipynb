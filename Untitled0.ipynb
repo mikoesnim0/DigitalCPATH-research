{
  "nbformat": 4,
  "nbformat_minor": 0,
  "metadata": {
    "colab": {
      "provenance": [],
      "mount_file_id": "1oHHTjZU6hi20ObOyXp5NTDCETnQ79c0Z",
      "authorship_tag": "ABX9TyMU5p2QHRJfOyZhEd2hMqei",
      "include_colab_link": true
    },
    "kernelspec": {
      "name": "python3",
      "display_name": "Python 3"
    },
    "language_info": {
      "name": "python"
    }
  },
  "cells": [
    {
      "cell_type": "markdown",
      "metadata": {
        "id": "view-in-github",
        "colab_type": "text"
      },
      "source": [
        "<a href=\"https://colab.research.google.com/github/mikoesnim0/DigitalCPATH-research/blob/main/Untitled0.ipynb\" target=\"_parent\"><img src=\"https://colab.research.google.com/assets/colab-badge.svg\" alt=\"Open In Colab\"/></a>"
      ]
    },
    {
      "cell_type": "markdown",
      "source": [
        "Step1.\n",
        "MOUNT DRIVE"
      ],
      "metadata": {
        "id": "U5dPJxhjDr6h"
      }
    },
    {
      "cell_type": "code",
      "execution_count": 1,
      "metadata": {
        "colab": {
          "base_uri": "https://localhost:8080/"
        },
        "id": "M-o6fOED4oeP",
        "outputId": "b5e78efa-4bd6-4bab-f967-fd0161119efe"
      },
      "outputs": [
        {
          "output_type": "stream",
          "name": "stdout",
          "text": [
            "Cloning into 'DigitalCPATH-research'...\n",
            "remote: Enumerating objects: 30, done.\u001b[K\n",
            "remote: Counting objects: 100% (30/30), done.\u001b[K\n",
            "remote: Compressing objects: 100% (27/27), done.\u001b[K\n",
            "remote: Total 30 (delta 10), reused 8 (delta 1), pack-reused 0\u001b[K\n",
            "Receiving objects: 100% (30/30), 33.77 KiB | 4.82 MiB/s, done.\n",
            "Resolving deltas: 100% (10/10), done.\n"
          ]
        }
      ],
      "source": [
        "!git clone https://github.com/mikoesnim0/DigitalCPATH-research.git"
      ]
    },
    {
      "cell_type": "code",
      "source": [
        "!mv \"/content/DigitalCPATH-research/ImgeTile512.ipynb\" \"/content/drive/MyDrive/Colab Notebooks\""
      ],
      "metadata": {
        "id": "JWKg2i4pDiWM"
      },
      "execution_count": 2,
      "outputs": []
    },
    {
      "cell_type": "code",
      "source": [],
      "metadata": {
        "id": "nGoWqNrFD3hZ"
      },
      "execution_count": null,
      "outputs": []
    }
  ]
}