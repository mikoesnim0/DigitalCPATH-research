{
  "nbformat": 4,
  "nbformat_minor": 0,
  "metadata": {
    "colab": {
      "provenance": [],
      "include_colab_link": true
    },
    "kernelspec": {
      "name": "python3",
      "display_name": "Python 3"
    },
    "language_info": {
      "name": "python"
    }
  },
  "cells": [
    {
      "cell_type": "markdown",
      "metadata": {
        "id": "view-in-github",
        "colab_type": "text"
      },
      "source": [
        "<a href=\"https://colab.research.google.com/github/mikoesnim0/DigitalCPATH-research/blob/main/Untitled0.ipynb\" target=\"_parent\"><img src=\"https://colab.research.google.com/assets/colab-badge.svg\" alt=\"Open In Colab\"/></a>"
      ]
    },
    {
      "cell_type": "markdown",
      "source": [
        "Step1.\n",
        "MOUNT DRIVE"
      ],
      "metadata": {
        "id": "U5dPJxhjDr6h"
      }
    },
    {
      "cell_type": "code",
      "source": [
        "from google.colab import drive\n",
        "drive.mount('/content/drive')"
      ],
      "metadata": {
        "colab": {
          "base_uri": "https://localhost:8080/"
        },
        "id": "S3519AQDmthe",
        "outputId": "149935a1-fab4-44f5-c78d-1cbecfcdfaa1"
      },
      "execution_count": 1,
      "outputs": [
        {
          "output_type": "stream",
          "name": "stdout",
          "text": [
            "Mounted at /content/drive\n"
          ]
        }
      ]
    },
    {
      "cell_type": "code",
      "execution_count": 2,
      "metadata": {
        "colab": {
          "base_uri": "https://localhost:8080/"
        },
        "id": "M-o6fOED4oeP",
        "outputId": "cc734e71-99ce-47fa-86bc-ae5e4d6584a7"
      },
      "outputs": [
        {
          "output_type": "stream",
          "name": "stdout",
          "text": [
            "Cloning into 'DigitalCPATH-research'...\n",
            "remote: Enumerating objects: 52, done.\u001b[K\n",
            "remote: Counting objects: 100% (52/52), done.\u001b[K\n",
            "remote: Compressing objects: 100% (49/49), done.\u001b[K\n",
            "remote: Total 52 (delta 25), reused 8 (delta 1), pack-reused 0\u001b[K\n",
            "Receiving objects: 100% (52/52), 74.48 KiB | 2.40 MiB/s, done.\n",
            "Resolving deltas: 100% (25/25), done.\n"
          ]
        }
      ],
      "source": [
        "\n",
        "!git clone https://github.com/mikoesnim0/DigitalCPATH-research.git"
      ]
    },
    {
      "cell_type": "code",
      "source": [
        "!mkdir \"/content/drive/MyDrive/Colab Notebooks\"\n",
        "!mv \"/content/DigitalCPATH-research/ImgeTile512.ipynb\" \"/content/drive/MyDrive/Colab Notebooks\""
      ],
      "metadata": {
        "id": "JWKg2i4pDiWM"
      },
      "execution_count": 3,
      "outputs": []
    }
  ]
}