{
  "nbformat": 4,
  "nbformat_minor": 0,
  "metadata": {
    "colab": {
      "provenance": [],
      "mount_file_id": "16R0Op_mirEZWitrBUCXkPrVX8VnHn1M_",
      "authorship_tag": "ABX9TyMs/OAp++uDhzTE1ZiiiXoy",
      "include_colab_link": true
    },
    "kernelspec": {
      "name": "python3",
      "display_name": "Python 3"
    },
    "language_info": {
      "name": "python"
    }
  },
  "cells": [
    {
      "cell_type": "markdown",
      "metadata": {
        "id": "view-in-github",
        "colab_type": "text"
      },
      "source": [
        "<a href=\"https://colab.research.google.com/github/mikoesnim0/DigitalCPATH-research/blob/main/logChart.ipynb\" target=\"_parent\"><img src=\"https://colab.research.google.com/assets/colab-badge.svg\" alt=\"Open In Colab\"/></a>"
      ]
    },
    {
      "cell_type": "markdown",
      "source": [
        "만든 로그를 중심으로 access, 총 걸린 시간, 그리고 어떤 슬라이드가 사용되었는지를 조회할 수 있도록 한다.\n",
        "\n",
        "테이블의 표를 만들고 이벤트를 연동시킬 수 있는 구조를 만들어보자."
      ],
      "metadata": {
        "id": "92NPg89F1sha"
      }
    },
    {
      "cell_type": "code",
      "execution_count": 1,
      "metadata": {
        "id": "wNERY8ZzP-HL"
      },
      "outputs": [],
      "source": [
        "import pandas as pd"
      ]
    },
    {
      "cell_type": "code",
      "source": [],
      "metadata": {
        "id": "05-V4KX1QCem"
      },
      "execution_count": null,
      "outputs": []
    }
  ]
}