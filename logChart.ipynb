{
  "nbformat": 4,
  "nbformat_minor": 0,
  "metadata": {
    "colab": {
      "provenance": [],
      "mount_file_id": "16R0Op_mirEZWitrBUCXkPrVX8VnHn1M_",
      "authorship_tag": "ABX9TyPHJbBEPmWPYWdE7+XPDZy6",
      "include_colab_link": true
    },
    "kernelspec": {
      "name": "python3",
      "display_name": "Python 3"
    },
    "language_info": {
      "name": "python"
    }
  },
  "cells": [
    {
      "cell_type": "markdown",
      "metadata": {
        "id": "view-in-github",
        "colab_type": "text"
      },
      "source": [
        "<a href=\"https://colab.research.google.com/github/mikoesnim0/DigitalCPATH-research/blob/main/logChart.ipynb\" target=\"_parent\"><img src=\"https://colab.research.google.com/assets/colab-badge.svg\" alt=\"Open In Colab\"/></a>"
      ]
    },
    {
      "cell_type": "markdown",
      "source": [
        "만든 로그를 중심으로 access, 총 걸린 시간, 그리고 어떤 슬라이드가 사용되었는지를 조회할 수 있도록 한다.\n",
        "\n",
        "테이블의 표를 만들고 이벤트를 연동시킬 수 있는 구조를 만들어보자."
      ],
      "metadata": {
        "id": "92NPg89F1sha"
      }
    },
    {
      "cell_type": "code",
      "execution_count": 9,
      "metadata": {
        "id": "wNERY8ZzP-HL"
      },
      "outputs": [],
      "source": [
        "import pandas as pd\n",
        "path_xls = '/content/drive/MyDrive/Colab Notebooks/deepPatho/deeppath_utilizing_notebooks/follicular_neoplasm/Follicular_neoplasm slide info.xlsx'"
      ]
    },
    {
      "cell_type": "code",
      "source": [
        "xls = pd.ExcelFile(path_xls)"
      ],
      "metadata": {
        "id": "arpUy385zinF"
      },
      "execution_count": 11,
      "outputs": []
    },
    {
      "cell_type": "code",
      "source": [
        "df = pd.read_excel(xls, '시트1')"
      ],
      "metadata": {
        "id": "05-V4KX1QCem"
      },
      "execution_count": 12,
      "outputs": []
    },
    {
      "cell_type": "code",
      "source": [
        "df.head()"
      ],
      "metadata": {
        "colab": {
          "base_uri": "https://localhost:8080/",
          "height": 345
        },
        "id": "yMGxjV3B30fl",
        "outputId": "2f2b934b-543b-478a-dcae-6842dd128366"
      },
      "execution_count": 13,
      "outputs": [
        {
          "output_type": "execute_result",
          "data": {
            "text/plain": [
              "   Checked  Is_Slide_Right  Slide_num    연도  슬라이드_번호 슬라이드_종류  Track_Number  \\\n",
              "0      1.0             1.0          0  22.0   4686.0      F1           NaN   \n",
              "1      1.0             0.0          1  22.0   4686.0      F2           1.0   \n",
              "2      NaN             NaN          2  23.0   5985.0       F           2.0   \n",
              "3      NaN             NaN          3  23.0   5985.0       H           3.0   \n",
              "4      NaN             NaN          4  20.0  14788.0       B           4.0   \n",
              "\n",
              "  File_num annotation  TRACK  Have_annotation Unnamed: 11 Unnamed: 12  \\\n",
              "0  1028029          C    NaN              NaN         NaN         NaN   \n",
              "1  1028030          C    4.0              NaN         NaN         NaN   \n",
              "2  1028031          C    NaN              NaN         NaN         NaN   \n",
              "3  1028032          C    NaN              NaN         NaN         NaN   \n",
              "4  1028033          C    NaN              NaN         NaN         NaN   \n",
              "\n",
              "  Unnamed: 13  \n",
              "0         NaN  \n",
              "1         NaN  \n",
              "2         NaN  \n",
              "3         NaN  \n",
              "4         NaN  "
            ],
            "text/html": [
              "\n",
              "  <div id=\"df-42e70c5a-b041-4741-bc78-6b466b1c6df7\" class=\"colab-df-container\">\n",
              "    <div>\n",
              "<style scoped>\n",
              "    .dataframe tbody tr th:only-of-type {\n",
              "        vertical-align: middle;\n",
              "    }\n",
              "\n",
              "    .dataframe tbody tr th {\n",
              "        vertical-align: top;\n",
              "    }\n",
              "\n",
              "    .dataframe thead th {\n",
              "        text-align: right;\n",
              "    }\n",
              "</style>\n",
              "<table border=\"1\" class=\"dataframe\">\n",
              "  <thead>\n",
              "    <tr style=\"text-align: right;\">\n",
              "      <th></th>\n",
              "      <th>Checked</th>\n",
              "      <th>Is_Slide_Right</th>\n",
              "      <th>Slide_num</th>\n",
              "      <th>연도</th>\n",
              "      <th>슬라이드_번호</th>\n",
              "      <th>슬라이드_종류</th>\n",
              "      <th>Track_Number</th>\n",
              "      <th>File_num</th>\n",
              "      <th>annotation</th>\n",
              "      <th>TRACK</th>\n",
              "      <th>Have_annotation</th>\n",
              "      <th>Unnamed: 11</th>\n",
              "      <th>Unnamed: 12</th>\n",
              "      <th>Unnamed: 13</th>\n",
              "    </tr>\n",
              "  </thead>\n",
              "  <tbody>\n",
              "    <tr>\n",
              "      <th>0</th>\n",
              "      <td>1.0</td>\n",
              "      <td>1.0</td>\n",
              "      <td>0</td>\n",
              "      <td>22.0</td>\n",
              "      <td>4686.0</td>\n",
              "      <td>F1</td>\n",
              "      <td>NaN</td>\n",
              "      <td>1028029</td>\n",
              "      <td>C</td>\n",
              "      <td>NaN</td>\n",
              "      <td>NaN</td>\n",
              "      <td>NaN</td>\n",
              "      <td>NaN</td>\n",
              "      <td>NaN</td>\n",
              "    </tr>\n",
              "    <tr>\n",
              "      <th>1</th>\n",
              "      <td>1.0</td>\n",
              "      <td>0.0</td>\n",
              "      <td>1</td>\n",
              "      <td>22.0</td>\n",
              "      <td>4686.0</td>\n",
              "      <td>F2</td>\n",
              "      <td>1.0</td>\n",
              "      <td>1028030</td>\n",
              "      <td>C</td>\n",
              "      <td>4.0</td>\n",
              "      <td>NaN</td>\n",
              "      <td>NaN</td>\n",
              "      <td>NaN</td>\n",
              "      <td>NaN</td>\n",
              "    </tr>\n",
              "    <tr>\n",
              "      <th>2</th>\n",
              "      <td>NaN</td>\n",
              "      <td>NaN</td>\n",
              "      <td>2</td>\n",
              "      <td>23.0</td>\n",
              "      <td>5985.0</td>\n",
              "      <td>F</td>\n",
              "      <td>2.0</td>\n",
              "      <td>1028031</td>\n",
              "      <td>C</td>\n",
              "      <td>NaN</td>\n",
              "      <td>NaN</td>\n",
              "      <td>NaN</td>\n",
              "      <td>NaN</td>\n",
              "      <td>NaN</td>\n",
              "    </tr>\n",
              "    <tr>\n",
              "      <th>3</th>\n",
              "      <td>NaN</td>\n",
              "      <td>NaN</td>\n",
              "      <td>3</td>\n",
              "      <td>23.0</td>\n",
              "      <td>5985.0</td>\n",
              "      <td>H</td>\n",
              "      <td>3.0</td>\n",
              "      <td>1028032</td>\n",
              "      <td>C</td>\n",
              "      <td>NaN</td>\n",
              "      <td>NaN</td>\n",
              "      <td>NaN</td>\n",
              "      <td>NaN</td>\n",
              "      <td>NaN</td>\n",
              "    </tr>\n",
              "    <tr>\n",
              "      <th>4</th>\n",
              "      <td>NaN</td>\n",
              "      <td>NaN</td>\n",
              "      <td>4</td>\n",
              "      <td>20.0</td>\n",
              "      <td>14788.0</td>\n",
              "      <td>B</td>\n",
              "      <td>4.0</td>\n",
              "      <td>1028033</td>\n",
              "      <td>C</td>\n",
              "      <td>NaN</td>\n",
              "      <td>NaN</td>\n",
              "      <td>NaN</td>\n",
              "      <td>NaN</td>\n",
              "      <td>NaN</td>\n",
              "    </tr>\n",
              "  </tbody>\n",
              "</table>\n",
              "</div>\n",
              "    <div class=\"colab-df-buttons\">\n",
              "\n",
              "  <div class=\"colab-df-container\">\n",
              "    <button class=\"colab-df-convert\" onclick=\"convertToInteractive('df-42e70c5a-b041-4741-bc78-6b466b1c6df7')\"\n",
              "            title=\"Convert this dataframe to an interactive table.\"\n",
              "            style=\"display:none;\">\n",
              "\n",
              "  <svg xmlns=\"http://www.w3.org/2000/svg\" height=\"24px\" viewBox=\"0 -960 960 960\">\n",
              "    <path d=\"M120-120v-720h720v720H120Zm60-500h600v-160H180v160Zm220 220h160v-160H400v160Zm0 220h160v-160H400v160ZM180-400h160v-160H180v160Zm440 0h160v-160H620v160ZM180-180h160v-160H180v160Zm440 0h160v-160H620v160Z\"/>\n",
              "  </svg>\n",
              "    </button>\n",
              "\n",
              "  <style>\n",
              "    .colab-df-container {\n",
              "      display:flex;\n",
              "      gap: 12px;\n",
              "    }\n",
              "\n",
              "    .colab-df-convert {\n",
              "      background-color: #E8F0FE;\n",
              "      border: none;\n",
              "      border-radius: 50%;\n",
              "      cursor: pointer;\n",
              "      display: none;\n",
              "      fill: #1967D2;\n",
              "      height: 32px;\n",
              "      padding: 0 0 0 0;\n",
              "      width: 32px;\n",
              "    }\n",
              "\n",
              "    .colab-df-convert:hover {\n",
              "      background-color: #E2EBFA;\n",
              "      box-shadow: 0px 1px 2px rgba(60, 64, 67, 0.3), 0px 1px 3px 1px rgba(60, 64, 67, 0.15);\n",
              "      fill: #174EA6;\n",
              "    }\n",
              "\n",
              "    .colab-df-buttons div {\n",
              "      margin-bottom: 4px;\n",
              "    }\n",
              "\n",
              "    [theme=dark] .colab-df-convert {\n",
              "      background-color: #3B4455;\n",
              "      fill: #D2E3FC;\n",
              "    }\n",
              "\n",
              "    [theme=dark] .colab-df-convert:hover {\n",
              "      background-color: #434B5C;\n",
              "      box-shadow: 0px 1px 3px 1px rgba(0, 0, 0, 0.15);\n",
              "      filter: drop-shadow(0px 1px 2px rgba(0, 0, 0, 0.3));\n",
              "      fill: #FFFFFF;\n",
              "    }\n",
              "  </style>\n",
              "\n",
              "    <script>\n",
              "      const buttonEl =\n",
              "        document.querySelector('#df-42e70c5a-b041-4741-bc78-6b466b1c6df7 button.colab-df-convert');\n",
              "      buttonEl.style.display =\n",
              "        google.colab.kernel.accessAllowed ? 'block' : 'none';\n",
              "\n",
              "      async function convertToInteractive(key) {\n",
              "        const element = document.querySelector('#df-42e70c5a-b041-4741-bc78-6b466b1c6df7');\n",
              "        const dataTable =\n",
              "          await google.colab.kernel.invokeFunction('convertToInteractive',\n",
              "                                                    [key], {});\n",
              "        if (!dataTable) return;\n",
              "\n",
              "        const docLinkHtml = 'Like what you see? Visit the ' +\n",
              "          '<a target=\"_blank\" href=https://colab.research.google.com/notebooks/data_table.ipynb>data table notebook</a>'\n",
              "          + ' to learn more about interactive tables.';\n",
              "        element.innerHTML = '';\n",
              "        dataTable['output_type'] = 'display_data';\n",
              "        await google.colab.output.renderOutput(dataTable, element);\n",
              "        const docLink = document.createElement('div');\n",
              "        docLink.innerHTML = docLinkHtml;\n",
              "        element.appendChild(docLink);\n",
              "      }\n",
              "    </script>\n",
              "  </div>\n",
              "\n",
              "\n",
              "<div id=\"df-6d59220e-7263-4033-8c5d-89b9d9b390cd\">\n",
              "  <button class=\"colab-df-quickchart\" onclick=\"quickchart('df-6d59220e-7263-4033-8c5d-89b9d9b390cd')\"\n",
              "            title=\"Suggest charts\"\n",
              "            style=\"display:none;\">\n",
              "\n",
              "<svg xmlns=\"http://www.w3.org/2000/svg\" height=\"24px\"viewBox=\"0 0 24 24\"\n",
              "     width=\"24px\">\n",
              "    <g>\n",
              "        <path d=\"M19 3H5c-1.1 0-2 .9-2 2v14c0 1.1.9 2 2 2h14c1.1 0 2-.9 2-2V5c0-1.1-.9-2-2-2zM9 17H7v-7h2v7zm4 0h-2V7h2v10zm4 0h-2v-4h2v4z\"/>\n",
              "    </g>\n",
              "</svg>\n",
              "  </button>\n",
              "\n",
              "<style>\n",
              "  .colab-df-quickchart {\n",
              "      --bg-color: #E8F0FE;\n",
              "      --fill-color: #1967D2;\n",
              "      --hover-bg-color: #E2EBFA;\n",
              "      --hover-fill-color: #174EA6;\n",
              "      --disabled-fill-color: #AAA;\n",
              "      --disabled-bg-color: #DDD;\n",
              "  }\n",
              "\n",
              "  [theme=dark] .colab-df-quickchart {\n",
              "      --bg-color: #3B4455;\n",
              "      --fill-color: #D2E3FC;\n",
              "      --hover-bg-color: #434B5C;\n",
              "      --hover-fill-color: #FFFFFF;\n",
              "      --disabled-bg-color: #3B4455;\n",
              "      --disabled-fill-color: #666;\n",
              "  }\n",
              "\n",
              "  .colab-df-quickchart {\n",
              "    background-color: var(--bg-color);\n",
              "    border: none;\n",
              "    border-radius: 50%;\n",
              "    cursor: pointer;\n",
              "    display: none;\n",
              "    fill: var(--fill-color);\n",
              "    height: 32px;\n",
              "    padding: 0;\n",
              "    width: 32px;\n",
              "  }\n",
              "\n",
              "  .colab-df-quickchart:hover {\n",
              "    background-color: var(--hover-bg-color);\n",
              "    box-shadow: 0 1px 2px rgba(60, 64, 67, 0.3), 0 1px 3px 1px rgba(60, 64, 67, 0.15);\n",
              "    fill: var(--button-hover-fill-color);\n",
              "  }\n",
              "\n",
              "  .colab-df-quickchart-complete:disabled,\n",
              "  .colab-df-quickchart-complete:disabled:hover {\n",
              "    background-color: var(--disabled-bg-color);\n",
              "    fill: var(--disabled-fill-color);\n",
              "    box-shadow: none;\n",
              "  }\n",
              "\n",
              "  .colab-df-spinner {\n",
              "    border: 2px solid var(--fill-color);\n",
              "    border-color: transparent;\n",
              "    border-bottom-color: var(--fill-color);\n",
              "    animation:\n",
              "      spin 1s steps(1) infinite;\n",
              "  }\n",
              "\n",
              "  @keyframes spin {\n",
              "    0% {\n",
              "      border-color: transparent;\n",
              "      border-bottom-color: var(--fill-color);\n",
              "      border-left-color: var(--fill-color);\n",
              "    }\n",
              "    20% {\n",
              "      border-color: transparent;\n",
              "      border-left-color: var(--fill-color);\n",
              "      border-top-color: var(--fill-color);\n",
              "    }\n",
              "    30% {\n",
              "      border-color: transparent;\n",
              "      border-left-color: var(--fill-color);\n",
              "      border-top-color: var(--fill-color);\n",
              "      border-right-color: var(--fill-color);\n",
              "    }\n",
              "    40% {\n",
              "      border-color: transparent;\n",
              "      border-right-color: var(--fill-color);\n",
              "      border-top-color: var(--fill-color);\n",
              "    }\n",
              "    60% {\n",
              "      border-color: transparent;\n",
              "      border-right-color: var(--fill-color);\n",
              "    }\n",
              "    80% {\n",
              "      border-color: transparent;\n",
              "      border-right-color: var(--fill-color);\n",
              "      border-bottom-color: var(--fill-color);\n",
              "    }\n",
              "    90% {\n",
              "      border-color: transparent;\n",
              "      border-bottom-color: var(--fill-color);\n",
              "    }\n",
              "  }\n",
              "</style>\n",
              "\n",
              "  <script>\n",
              "    async function quickchart(key) {\n",
              "      const quickchartButtonEl =\n",
              "        document.querySelector('#' + key + ' button');\n",
              "      quickchartButtonEl.disabled = true;  // To prevent multiple clicks.\n",
              "      quickchartButtonEl.classList.add('colab-df-spinner');\n",
              "      try {\n",
              "        const charts = await google.colab.kernel.invokeFunction(\n",
              "            'suggestCharts', [key], {});\n",
              "      } catch (error) {\n",
              "        console.error('Error during call to suggestCharts:', error);\n",
              "      }\n",
              "      quickchartButtonEl.classList.remove('colab-df-spinner');\n",
              "      quickchartButtonEl.classList.add('colab-df-quickchart-complete');\n",
              "    }\n",
              "    (() => {\n",
              "      let quickchartButtonEl =\n",
              "        document.querySelector('#df-6d59220e-7263-4033-8c5d-89b9d9b390cd button');\n",
              "      quickchartButtonEl.style.display =\n",
              "        google.colab.kernel.accessAllowed ? 'block' : 'none';\n",
              "    })();\n",
              "  </script>\n",
              "</div>\n",
              "    </div>\n",
              "  </div>\n"
            ],
            "application/vnd.google.colaboratory.intrinsic+json": {
              "type": "dataframe",
              "variable_name": "df",
              "summary": "{\n  \"name\": \"df\",\n  \"rows\": 177,\n  \"fields\": [\n    {\n      \"column\": \"Checked\",\n      \"properties\": {\n        \"dtype\": \"number\",\n        \"std\": 0.0,\n        \"min\": 1.0,\n        \"max\": 1.0,\n        \"num_unique_values\": 1,\n        \"samples\": [\n          1.0\n        ],\n        \"semantic_type\": \"\",\n        \"description\": \"\"\n      }\n    },\n    {\n      \"column\": \"Is_Slide_Right\",\n      \"properties\": {\n        \"dtype\": \"number\",\n        \"std\": 0.5050353737560759,\n        \"min\": 0.0,\n        \"max\": 1.0,\n        \"num_unique_values\": 2,\n        \"samples\": [\n          0.0\n        ],\n        \"semantic_type\": \"\",\n        \"description\": \"\"\n      }\n    },\n    {\n      \"column\": \"Slide_num\",\n      \"properties\": {\n        \"dtype\": \"number\",\n        \"std\": 51,\n        \"min\": 0,\n        \"max\": 176,\n        \"num_unique_values\": 177,\n        \"samples\": [\n          19\n        ],\n        \"semantic_type\": \"\",\n        \"description\": \"\"\n      }\n    },\n    {\n      \"column\": \"\\uc5f0\\ub3c4\",\n      \"properties\": {\n        \"dtype\": \"number\",\n        \"std\": 3.794537016060471,\n        \"min\": 12.0,\n        \"max\": 23.0,\n        \"num_unique_values\": 11,\n        \"samples\": [\n          15.0\n        ],\n        \"semantic_type\": \"\",\n        \"description\": \"\"\n      }\n    },\n    {\n      \"column\": \"\\uc2ac\\ub77c\\uc774\\ub4dc_\\ubc88\\ud638\",\n      \"properties\": {\n        \"dtype\": \"number\",\n        \"std\": 4849.16270829787,\n        \"min\": 805.0,\n        \"max\": 18891.0,\n        \"num_unique_values\": 71,\n        \"samples\": [\n          10252.0\n        ],\n        \"semantic_type\": \"\",\n        \"description\": \"\"\n      }\n    },\n    {\n      \"column\": \"\\uc2ac\\ub77c\\uc774\\ub4dc_\\uc885\\ub958\",\n      \"properties\": {\n        \"dtype\": \"category\",\n        \"num_unique_values\": 29,\n        \"samples\": [\n          \"fro2\"\n        ],\n        \"semantic_type\": \"\",\n        \"description\": \"\"\n      }\n    },\n    {\n      \"column\": \"Track_Number\",\n      \"properties\": {\n        \"dtype\": \"number\",\n        \"std\": 11.318687810778025,\n        \"min\": 1.0,\n        \"max\": 40.0,\n        \"num_unique_values\": 40,\n        \"samples\": [\n          20.0\n        ],\n        \"semantic_type\": \"\",\n        \"description\": \"\"\n      }\n    },\n    {\n      \"column\": \"File_num\",\n      \"properties\": {\n        \"dtype\": \"string\",\n        \"num_unique_values\": 157,\n        \"samples\": [\n          \"1028154\"\n        ],\n        \"semantic_type\": \"\",\n        \"description\": \"\"\n      }\n    },\n    {\n      \"column\": \"annotation\",\n      \"properties\": {\n        \"dtype\": \"category\",\n        \"num_unique_values\": 2,\n        \"samples\": [\n          \"A\"\n        ],\n        \"semantic_type\": \"\",\n        \"description\": \"\"\n      }\n    },\n    {\n      \"column\": \"TRACK\",\n      \"properties\": {\n        \"dtype\": \"number\",\n        \"std\": 419703.73749666166,\n        \"min\": 4.0,\n        \"max\": 1028066.0,\n        \"num_unique_values\": 6,\n        \"samples\": [\n          4.0\n        ],\n        \"semantic_type\": \"\",\n        \"description\": \"\"\n      }\n    },\n    {\n      \"column\": \"Have_annotation\",\n      \"properties\": {\n        \"dtype\": \"number\",\n        \"std\": 12.151769633534073,\n        \"min\": 1.0,\n        \"max\": 40.0,\n        \"num_unique_values\": 40,\n        \"samples\": [\n          20.0\n        ],\n        \"semantic_type\": \"\",\n        \"description\": \"\"\n      }\n    },\n    {\n      \"column\": \"Unnamed: 11\",\n      \"properties\": {\n        \"dtype\": \"category\",\n        \"num_unique_values\": 7,\n        \"samples\": [\n          19\n        ],\n        \"semantic_type\": \"\",\n        \"description\": \"\"\n      }\n    },\n    {\n      \"column\": \"Unnamed: 12\",\n      \"properties\": {\n        \"dtype\": \"category\",\n        \"num_unique_values\": 1,\n        \"samples\": [\n          \"\\uc911\\uac04\\uc5d0 \\ud558\\ub098\\uac00 \\ubc00\\ub838\\ub2e4.\"\n        ],\n        \"semantic_type\": \"\",\n        \"description\": \"\"\n      }\n    },\n    {\n      \"column\": \"Unnamed: 13\",\n      \"properties\": {\n        \"dtype\": \"category\",\n        \"num_unique_values\": 1,\n        \"samples\": [\n          \"\\ucc3e\\uc558\\ub2e4 \\ubc94\\uc778\"\n        ],\n        \"semantic_type\": \"\",\n        \"description\": \"\"\n      }\n    }\n  ]\n}"
            }
          },
          "metadata": {},
          "execution_count": 13
        }
      ]
    },
    {
      "cell_type": "code",
      "source": [
        "import glob\n",
        "svs_list = glob.glob(\"/content/drive/MyDrive/Colab Notebooks/deepPatho/deeppath_utilizing_notebooks/follicular_neoplasm/*.svs\")\n",
        "len(svs_list)"
      ],
      "metadata": {
        "colab": {
          "base_uri": "https://localhost:8080/"
        },
        "id": "03zAX0J64Bd8",
        "outputId": "1299843b-390c-4853-8f18-8a06181a1afc"
      },
      "execution_count": 4,
      "outputs": [
        {
          "output_type": "execute_result",
          "data": {
            "text/plain": [
              "157"
            ]
          },
          "metadata": {},
          "execution_count": 4
        }
      ]
    },
    {
      "cell_type": "code",
      "source": [
        "df[df[\"File_num\"].isnull()==False].shape"
      ],
      "metadata": {
        "colab": {
          "base_uri": "https://localhost:8080/"
        },
        "id": "LFwmz-Ep4RGc",
        "outputId": "5e6503c9-5096-405a-dc1e-78263b150d78"
      },
      "execution_count": null,
      "outputs": [
        {
          "output_type": "execute_result",
          "data": {
            "text/plain": [
              "(157, 11)"
            ]
          },
          "metadata": {},
          "execution_count": 17
        }
      ]
    },
    {
      "cell_type": "code",
      "source": [
        "import glob\n",
        "xml_list = glob.glob(\"/content/drive/MyDrive/Colab Notebooks/deepPatho/deeppath_utilizing_notebooks/follicular_neoplasm/*.xml\")\n",
        "len(xml_list)"
      ],
      "metadata": {
        "id": "ELQqgITD48r3",
        "colab": {
          "base_uri": "https://localhost:8080/"
        },
        "outputId": "13d4cbed-8e57-49dc-a3a4-ea2e9e98da51"
      },
      "execution_count": 7,
      "outputs": [
        {
          "output_type": "execute_result",
          "data": {
            "text/plain": [
              "71"
            ]
          },
          "metadata": {},
          "execution_count": 7
        }
      ]
    },
    {
      "cell_type": "code",
      "source": [
        "xml_list"
      ],
      "metadata": {
        "colab": {
          "base_uri": "https://localhost:8080/"
        },
        "id": "65-7Fwz0yYa_",
        "outputId": "4a5705da-308b-49fa-bdfc-9a3fe47e910d"
      },
      "execution_count": 8,
      "outputs": [
        {
          "output_type": "execute_result",
          "data": {
            "text/plain": [
              "['/content/drive/MyDrive/Colab Notebooks/deepPatho/deeppath_utilizing_notebooks/follicular_neoplasm/1028043.xml',\n",
              " '/content/drive/MyDrive/Colab Notebooks/deepPatho/deeppath_utilizing_notebooks/follicular_neoplasm/1028041.xml',\n",
              " '/content/drive/MyDrive/Colab Notebooks/deepPatho/deeppath_utilizing_notebooks/follicular_neoplasm/1028040.xml',\n",
              " '/content/drive/MyDrive/Colab Notebooks/deepPatho/deeppath_utilizing_notebooks/follicular_neoplasm/1028036.xml',\n",
              " '/content/drive/MyDrive/Colab Notebooks/deepPatho/deeppath_utilizing_notebooks/follicular_neoplasm/1028035.xml',\n",
              " '/content/drive/MyDrive/Colab Notebooks/deepPatho/deeppath_utilizing_notebooks/follicular_neoplasm/1028034.xml',\n",
              " '/content/drive/MyDrive/Colab Notebooks/deepPatho/deeppath_utilizing_notebooks/follicular_neoplasm/1028033.xml',\n",
              " '/content/drive/MyDrive/Colab Notebooks/deepPatho/deeppath_utilizing_notebooks/follicular_neoplasm/1028032.xml',\n",
              " '/content/drive/MyDrive/Colab Notebooks/deepPatho/deeppath_utilizing_notebooks/follicular_neoplasm/1028031.xml',\n",
              " '/content/drive/MyDrive/Colab Notebooks/deepPatho/deeppath_utilizing_notebooks/follicular_neoplasm/1028133.xml',\n",
              " '/content/drive/MyDrive/Colab Notebooks/deepPatho/deeppath_utilizing_notebooks/follicular_neoplasm/1028132.xml',\n",
              " '/content/drive/MyDrive/Colab Notebooks/deepPatho/deeppath_utilizing_notebooks/follicular_neoplasm/1028130.xml',\n",
              " '/content/drive/MyDrive/Colab Notebooks/deepPatho/deeppath_utilizing_notebooks/follicular_neoplasm/1028125.xml',\n",
              " '/content/drive/MyDrive/Colab Notebooks/deepPatho/deeppath_utilizing_notebooks/follicular_neoplasm/1028124.xml',\n",
              " '/content/drive/MyDrive/Colab Notebooks/deepPatho/deeppath_utilizing_notebooks/follicular_neoplasm/1028123.xml',\n",
              " '/content/drive/MyDrive/Colab Notebooks/deepPatho/deeppath_utilizing_notebooks/follicular_neoplasm/1028120.xml',\n",
              " '/content/drive/MyDrive/Colab Notebooks/deepPatho/deeppath_utilizing_notebooks/follicular_neoplasm/1028118.xml',\n",
              " '/content/drive/MyDrive/Colab Notebooks/deepPatho/deeppath_utilizing_notebooks/follicular_neoplasm/1028115.xml',\n",
              " '/content/drive/MyDrive/Colab Notebooks/deepPatho/deeppath_utilizing_notebooks/follicular_neoplasm/1028114.xml',\n",
              " '/content/drive/MyDrive/Colab Notebooks/deepPatho/deeppath_utilizing_notebooks/follicular_neoplasm/1028113.xml',\n",
              " '/content/drive/MyDrive/Colab Notebooks/deepPatho/deeppath_utilizing_notebooks/follicular_neoplasm/1028112.xml',\n",
              " '/content/drive/MyDrive/Colab Notebooks/deepPatho/deeppath_utilizing_notebooks/follicular_neoplasm/1028066.xml',\n",
              " '/content/drive/MyDrive/Colab Notebooks/deepPatho/deeppath_utilizing_notebooks/follicular_neoplasm/1028065.xml',\n",
              " '/content/drive/MyDrive/Colab Notebooks/deepPatho/deeppath_utilizing_notebooks/follicular_neoplasm/1028064.xml',\n",
              " '/content/drive/MyDrive/Colab Notebooks/deepPatho/deeppath_utilizing_notebooks/follicular_neoplasm/1028063.xml',\n",
              " '/content/drive/MyDrive/Colab Notebooks/deepPatho/deeppath_utilizing_notebooks/follicular_neoplasm/1028062.xml',\n",
              " '/content/drive/MyDrive/Colab Notebooks/deepPatho/deeppath_utilizing_notebooks/follicular_neoplasm/1028061.xml',\n",
              " '/content/drive/MyDrive/Colab Notebooks/deepPatho/deeppath_utilizing_notebooks/follicular_neoplasm/1028060.xml',\n",
              " '/content/drive/MyDrive/Colab Notebooks/deepPatho/deeppath_utilizing_notebooks/follicular_neoplasm/1028057.xml',\n",
              " '/content/drive/MyDrive/Colab Notebooks/deepPatho/deeppath_utilizing_notebooks/follicular_neoplasm/1028151.xml',\n",
              " '/content/drive/MyDrive/Colab Notebooks/deepPatho/deeppath_utilizing_notebooks/follicular_neoplasm/1028150.xml',\n",
              " '/content/drive/MyDrive/Colab Notebooks/deepPatho/deeppath_utilizing_notebooks/follicular_neoplasm/1028148.xml',\n",
              " '/content/drive/MyDrive/Colab Notebooks/deepPatho/deeppath_utilizing_notebooks/follicular_neoplasm/1028146.xml',\n",
              " '/content/drive/MyDrive/Colab Notebooks/deepPatho/deeppath_utilizing_notebooks/follicular_neoplasm/1028145.xml',\n",
              " '/content/drive/MyDrive/Colab Notebooks/deepPatho/deeppath_utilizing_notebooks/follicular_neoplasm/1028142.xml',\n",
              " '/content/drive/MyDrive/Colab Notebooks/deepPatho/deeppath_utilizing_notebooks/follicular_neoplasm/1028140.xml',\n",
              " '/content/drive/MyDrive/Colab Notebooks/deepPatho/deeppath_utilizing_notebooks/follicular_neoplasm/1028137.xml',\n",
              " '/content/drive/MyDrive/Colab Notebooks/deepPatho/deeppath_utilizing_notebooks/follicular_neoplasm/1028136.xml',\n",
              " '/content/drive/MyDrive/Colab Notebooks/deepPatho/deeppath_utilizing_notebooks/follicular_neoplasm/1028135.xml',\n",
              " '/content/drive/MyDrive/Colab Notebooks/deepPatho/deeppath_utilizing_notebooks/follicular_neoplasm/1028056.xml',\n",
              " '/content/drive/MyDrive/Colab Notebooks/deepPatho/deeppath_utilizing_notebooks/follicular_neoplasm/1028053.xml',\n",
              " '/content/drive/MyDrive/Colab Notebooks/deepPatho/deeppath_utilizing_notebooks/follicular_neoplasm/1028052.xml',\n",
              " '/content/drive/MyDrive/Colab Notebooks/deepPatho/deeppath_utilizing_notebooks/follicular_neoplasm/1028051.xml',\n",
              " '/content/drive/MyDrive/Colab Notebooks/deepPatho/deeppath_utilizing_notebooks/follicular_neoplasm/1028050.xml',\n",
              " '/content/drive/MyDrive/Colab Notebooks/deepPatho/deeppath_utilizing_notebooks/follicular_neoplasm/1028049.xml',\n",
              " '/content/drive/MyDrive/Colab Notebooks/deepPatho/deeppath_utilizing_notebooks/follicular_neoplasm/1028048.xml',\n",
              " '/content/drive/MyDrive/Colab Notebooks/deepPatho/deeppath_utilizing_notebooks/follicular_neoplasm/1028047.xml',\n",
              " '/content/drive/MyDrive/Colab Notebooks/deepPatho/deeppath_utilizing_notebooks/follicular_neoplasm/1028046.xml',\n",
              " '/content/drive/MyDrive/Colab Notebooks/deepPatho/deeppath_utilizing_notebooks/follicular_neoplasm/1028044.xml',\n",
              " '/content/drive/MyDrive/Colab Notebooks/deepPatho/deeppath_utilizing_notebooks/follicular_neoplasm/1028182.xml',\n",
              " '/content/drive/MyDrive/Colab Notebooks/deepPatho/deeppath_utilizing_notebooks/follicular_neoplasm/1028181.xml',\n",
              " '/content/drive/MyDrive/Colab Notebooks/deepPatho/deeppath_utilizing_notebooks/follicular_neoplasm/1028180.xml',\n",
              " '/content/drive/MyDrive/Colab Notebooks/deepPatho/deeppath_utilizing_notebooks/follicular_neoplasm/1028179.xml',\n",
              " '/content/drive/MyDrive/Colab Notebooks/deepPatho/deeppath_utilizing_notebooks/follicular_neoplasm/1028178.xml',\n",
              " '/content/drive/MyDrive/Colab Notebooks/deepPatho/deeppath_utilizing_notebooks/follicular_neoplasm/1028177.xml',\n",
              " '/content/drive/MyDrive/Colab Notebooks/deepPatho/deeppath_utilizing_notebooks/follicular_neoplasm/1028172.xml',\n",
              " '/content/drive/MyDrive/Colab Notebooks/deepPatho/deeppath_utilizing_notebooks/follicular_neoplasm/1028171.xml',\n",
              " '/content/drive/MyDrive/Colab Notebooks/deepPatho/deeppath_utilizing_notebooks/follicular_neoplasm/1028167.xml',\n",
              " '/content/drive/MyDrive/Colab Notebooks/deepPatho/deeppath_utilizing_notebooks/follicular_neoplasm/1028166.xml',\n",
              " '/content/drive/MyDrive/Colab Notebooks/deepPatho/deeppath_utilizing_notebooks/follicular_neoplasm/1028165.xml',\n",
              " '/content/drive/MyDrive/Colab Notebooks/deepPatho/deeppath_utilizing_notebooks/follicular_neoplasm/1028164.xml',\n",
              " '/content/drive/MyDrive/Colab Notebooks/deepPatho/deeppath_utilizing_notebooks/follicular_neoplasm/1028162.xml',\n",
              " '/content/drive/MyDrive/Colab Notebooks/deepPatho/deeppath_utilizing_notebooks/follicular_neoplasm/1028161.xml',\n",
              " '/content/drive/MyDrive/Colab Notebooks/deepPatho/deeppath_utilizing_notebooks/follicular_neoplasm/1028160.xml',\n",
              " '/content/drive/MyDrive/Colab Notebooks/deepPatho/deeppath_utilizing_notebooks/follicular_neoplasm/1028159.xml',\n",
              " '/content/drive/MyDrive/Colab Notebooks/deepPatho/deeppath_utilizing_notebooks/follicular_neoplasm/1028155.xml',\n",
              " '/content/drive/MyDrive/Colab Notebooks/deepPatho/deeppath_utilizing_notebooks/follicular_neoplasm/1028154.xml',\n",
              " '/content/drive/MyDrive/Colab Notebooks/deepPatho/deeppath_utilizing_notebooks/follicular_neoplasm/1028153.xml',\n",
              " '/content/drive/MyDrive/Colab Notebooks/deepPatho/deeppath_utilizing_notebooks/follicular_neoplasm/1028152.xml',\n",
              " '/content/drive/MyDrive/Colab Notebooks/deepPatho/deeppath_utilizing_notebooks/follicular_neoplasm/1028185.xml',\n",
              " '/content/drive/MyDrive/Colab Notebooks/deepPatho/deeppath_utilizing_notebooks/follicular_neoplasm/1028029.xml']"
            ]
          },
          "metadata": {},
          "execution_count": 8
        }
      ]
    },
    {
      "cell_type": "code",
      "source": [],
      "metadata": {
        "id": "9g_AJo6Dydwc"
      },
      "execution_count": null,
      "outputs": []
    }
  ]
}