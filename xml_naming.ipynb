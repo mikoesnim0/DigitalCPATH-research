{
 "cells": [
  {
   "cell_type": "markdown",
   "id": "a6d3301d",
   "metadata": {},
   "source": [
    "# OS controlling"
   ]
  },
  {
   "cell_type": "code",
   "execution_count": 2,
   "id": "b251bb08",
   "metadata": {},
   "outputs": [
    {
     "data": {
      "text/plain": [
       "'C:\\\\Users\\\\USER\\\\GNU_research\\\\DigitalCPATH-research'"
      ]
     },
     "execution_count": 2,
     "metadata": {},
     "output_type": "execute_result"
    }
   ],
   "source": [
    "import os\n",
    "os.getcwd()"
   ]
  },
  {
   "cell_type": "code",
   "execution_count": 7,
   "id": "e4ee9521",
   "metadata": {},
   "outputs": [],
   "source": [
    "this_file = os.path.abspath('xml_naming.ipynb')\n",
    "print(os.path.abspath(' .'))\n",
    "#내가 쓴 코드 정도는 꾸준히 복습을 하는 것이 매우 도움이 될 것일진대. 어떻게 해야 할까/ 생각중.\n",
    "print(os.path.relpath(this_file))\n",
    "#상대경로 출력"
   ]
  },
  {
   "cell_type": "code",
   "execution_count": 11,
   "id": "012409b1",
   "metadata": {},
   "outputs": [
    {
     "name": "stdout",
     "output_type": "stream",
     "text": [
      "xml_naming.ipynb\n",
      "C:\\Users\\USER\\GNU_research\\DigitalCPATH-research\n"
     ]
    }
   ],
   "source": [
    "print(os.path.basename(this_file))\n",
    "print(os.path.dirname(this_file))"
   ]
  },
  {
   "cell_type": "code",
   "execution_count": 12,
   "id": "9fdd1754",
   "metadata": {},
   "outputs": [
    {
     "data": {
      "text/plain": [
       "('C:\\\\Users\\\\USER\\\\GNU_research\\\\DigitalCPATH-research', 'xml_naming.ipynb')"
      ]
     },
     "execution_count": 12,
     "metadata": {},
     "output_type": "execute_result"
    }
   ],
   "source": [
    "os.path.split(this_file)"
   ]
  },
  {
   "cell_type": "code",
   "execution_count": 18,
   "id": "af3574b7",
   "metadata": {},
   "outputs": [
    {
     "data": {
      "text/plain": [
       "['C:',\n",
       " 'Users',\n",
       " 'USER',\n",
       " 'GNU_research',\n",
       " 'DigitalCPATH-research',\n",
       " 'xml_naming.ipynb']"
      ]
     },
     "execution_count": 18,
     "metadata": {},
     "output_type": "execute_result"
    }
   ],
   "source": [
    "this_file.split(os.path.sep)"
   ]
  },
  {
   "cell_type": "code",
   "execution_count": 17,
   "id": "4034c285",
   "metadata": {},
   "outputs": [],
   "source": [
    "os.path.sep = '\\\\'"
   ]
  },
  {
   "cell_type": "code",
   "execution_count": 19,
   "id": "8e8f264a",
   "metadata": {},
   "outputs": [
    {
     "data": {
      "text/plain": [
       "True"
      ]
     },
     "execution_count": 19,
     "metadata": {},
     "output_type": "execute_result"
    }
   ],
   "source": [
    "os.path.exists(this_file)"
   ]
  },
  {
   "cell_type": "code",
   "execution_count": 28,
   "id": "a33b4616",
   "metadata": {},
   "outputs": [
    {
     "data": {
      "text/plain": [
       "True"
      ]
     },
     "execution_count": 28,
     "metadata": {},
     "output_type": "execute_result"
    }
   ],
   "source": [
    "os.path.exists('E:')"
   ]
  },
  {
   "cell_type": "code",
   "execution_count": 30,
   "id": "d3cb8d3b",
   "metadata": {},
   "outputs": [
    {
     "data": {
      "text/plain": [
       "['.git',\n",
       " '.ipynb_checkpoints',\n",
       " '240317_ImageFolderUsing_deeppath.ipynb',\n",
       " 'Follicular_neoplasm_dataset.ipynb',\n",
       " 'ImgeTile512.ipynb',\n",
       " 'logChart.ipynb',\n",
       " 'Preprocessing',\n",
       " 'README.md',\n",
       " 'Untitled.ipynb',\n",
       " 'Untitled0.ipynb',\n",
       " 'Untitled1-Copy1.ipynb',\n",
       " 'Untitled1.ipynb',\n",
       " 'xml_naming.ipynb']"
      ]
     },
     "execution_count": 30,
     "metadata": {},
     "output_type": "execute_result"
    }
   ],
   "source": [
    "os.listdir()"
   ]
  },
  {
   "cell_type": "code",
   "execution_count": 31,
   "id": "99d7ce20",
   "metadata": {},
   "outputs": [
    {
     "ename": "FileNotFoundError",
     "evalue": "[Errno 2] No such file or directory: 'example_file_learning.txt'",
     "output_type": "error",
     "traceback": [
      "\u001b[1;31m---------------------------------------------------------------------------\u001b[0m",
      "\u001b[1;31mFileNotFoundError\u001b[0m                         Traceback (most recent call last)",
      "Cell \u001b[1;32mIn[31], line 1\u001b[0m\n\u001b[1;32m----> 1\u001b[0m \u001b[38;5;28mopen\u001b[39m(\u001b[38;5;124m'\u001b[39m\u001b[38;5;124mexample_file_learning.txt\u001b[39m\u001b[38;5;124m'\u001b[39m)\n",
      "File \u001b[1;32m~\\anaconda3\\Lib\\site-packages\\IPython\\core\\interactiveshell.py:286\u001b[0m, in \u001b[0;36m_modified_open\u001b[1;34m(file, *args, **kwargs)\u001b[0m\n\u001b[0;32m    279\u001b[0m \u001b[38;5;28;01mif\u001b[39;00m file \u001b[38;5;129;01min\u001b[39;00m {\u001b[38;5;241m0\u001b[39m, \u001b[38;5;241m1\u001b[39m, \u001b[38;5;241m2\u001b[39m}:\n\u001b[0;32m    280\u001b[0m     \u001b[38;5;28;01mraise\u001b[39;00m \u001b[38;5;167;01mValueError\u001b[39;00m(\n\u001b[0;32m    281\u001b[0m         \u001b[38;5;124mf\u001b[39m\u001b[38;5;124m\"\u001b[39m\u001b[38;5;124mIPython won\u001b[39m\u001b[38;5;124m'\u001b[39m\u001b[38;5;124mt let you open fd=\u001b[39m\u001b[38;5;132;01m{\u001b[39;00mfile\u001b[38;5;132;01m}\u001b[39;00m\u001b[38;5;124m by default \u001b[39m\u001b[38;5;124m\"\u001b[39m\n\u001b[0;32m    282\u001b[0m         \u001b[38;5;124m\"\u001b[39m\u001b[38;5;124mas it is likely to crash IPython. If you know what you are doing, \u001b[39m\u001b[38;5;124m\"\u001b[39m\n\u001b[0;32m    283\u001b[0m         \u001b[38;5;124m\"\u001b[39m\u001b[38;5;124myou can use builtins\u001b[39m\u001b[38;5;124m'\u001b[39m\u001b[38;5;124m open.\u001b[39m\u001b[38;5;124m\"\u001b[39m\n\u001b[0;32m    284\u001b[0m     )\n\u001b[1;32m--> 286\u001b[0m \u001b[38;5;28;01mreturn\u001b[39;00m io_open(file, \u001b[38;5;241m*\u001b[39margs, \u001b[38;5;241m*\u001b[39m\u001b[38;5;241m*\u001b[39mkwargs)\n",
      "\u001b[1;31mFileNotFoundError\u001b[0m: [Errno 2] No such file or directory: 'example_file_learning.txt'"
     ]
    }
   ],
   "source": [
    "open('example_file_learning.txt')"
   ]
  },
  {
   "cell_type": "code",
   "execution_count": 36,
   "id": "a304a3ef",
   "metadata": {},
   "outputs": [
    {
     "data": {
      "text/plain": [
       "'C:\\\\Users\\\\USER\\\\GNU_research\\\\DigitalCPATH-research\\\\example_file_learning.txt'"
      ]
     },
     "execution_count": 36,
     "metadata": {},
     "output_type": "execute_result"
    }
   ],
   "source": [
    "file_path = 'example_file_learning.txt'\n",
    "file_path = os.path.abspath('.') + os.path.sep + file_path\n",
    "file_path"
   ]
  },
  {
   "cell_type": "code",
   "execution_count": 37,
   "id": "c654a4a5",
   "metadata": {},
   "outputs": [],
   "source": [
    "with open(file_path, 'w') as file:\n",
    "    file.write(\"Hello, World!\")"
   ]
  },
  {
   "cell_type": "code",
   "execution_count": 38,
   "id": "35f68bd8",
   "metadata": {},
   "outputs": [],
   "source": [
    "file.close()"
   ]
  },
  {
   "cell_type": "code",
   "execution_count": 46,
   "id": "5d7b5c05",
   "metadata": {},
   "outputs": [
    {
     "data": {
      "text/plain": [
       "'Hello, World!'"
      ]
     },
     "execution_count": 46,
     "metadata": {},
     "output_type": "execute_result"
    }
   ],
   "source": [
    "file.close()\n",
    "file = open(file_path, 'r')\n",
    "file.read()"
   ]
  },
  {
   "cell_type": "code",
   "execution_count": 47,
   "id": "8da6b791",
   "metadata": {},
   "outputs": [
    {
     "data": {
      "text/plain": [
       "''"
      ]
     },
     "execution_count": 47,
     "metadata": {},
     "output_type": "execute_result"
    }
   ],
   "source": [
    "file.readline()"
   ]
  },
  {
   "cell_type": "code",
   "execution_count": 59,
   "id": "17f4c773",
   "metadata": {},
   "outputs": [],
   "source": [
    "file.close()\n",
    "file = open(file_path, 'a')\n"
   ]
  },
  {
   "cell_type": "code",
   "execution_count": 61,
   "id": "6bfc4740",
   "metadata": {},
   "outputs": [
    {
     "data": {
      "text/plain": [
       "13"
      ]
     },
     "execution_count": 61,
     "metadata": {},
     "output_type": "execute_result"
    }
   ],
   "source": [
    "file.write('Baconis not a vegi')\n",
    "file.write(\"Hello, World!\")"
   ]
  },
  {
   "cell_type": "code",
   "execution_count": 62,
   "id": "b1e883b5",
   "metadata": {},
   "outputs": [],
   "source": [
    "file.close()"
   ]
  },
  {
   "cell_type": "code",
   "execution_count": 63,
   "id": "a227f828",
   "metadata": {},
   "outputs": [],
   "source": [
    "file = open(file_path, 'r')\n",
    "content = file.read()\n",
    "file.close()"
   ]
  },
  {
   "cell_type": "code",
   "execution_count": 64,
   "id": "86e2988e",
   "metadata": {},
   "outputs": [
    {
     "name": "stdout",
     "output_type": "stream",
     "text": [
      "Baconis not a vegiBaconis not a vegiHello, World!\n"
     ]
    }
   ],
   "source": [
    "print(content)"
   ]
  },
  {
   "cell_type": "code",
   "execution_count": null,
   "id": "3c1dc2e7",
   "metadata": {},
   "outputs": [],
   "source": []
  },
  {
   "cell_type": "markdown",
   "id": "c72be21f",
   "metadata": {},
   "source": [
    "## shelve module"
   ]
  },
  {
   "cell_type": "code",
   "execution_count": 71,
   "id": "8f69f061",
   "metadata": {},
   "outputs": [],
   "source": [
    "import shelve\n",
    "\n",
    "# Correcting the variable name to be consistent\n",
    "shelfFile = shelve.open('mydata')  # Note the lowercase 'i'\n",
    "cats = ['Zophie', 'Pooka', 'Simon']\n",
    "shelfFile['cats'] = cats\n",
    "shelfFile.close()  # Don't forget to close the shelve file after writing to it\n"
   ]
  },
  {
   "cell_type": "code",
   "execution_count": 73,
   "id": "8a2c35db",
   "metadata": {},
   "outputs": [
    {
     "data": {
      "text/plain": [
       "shelve.DbfilenameShelf"
      ]
     },
     "execution_count": 73,
     "metadata": {},
     "output_type": "execute_result"
    }
   ],
   "source": [
    "shelfFile = shelve.open('mydata')\n",
    "type(shelfFile)"
   ]
  },
  {
   "cell_type": "code",
   "execution_count": 74,
   "id": "0c2d865c",
   "metadata": {},
   "outputs": [
    {
     "data": {
      "text/plain": [
       "['Zophie', 'Pooka', 'Simon']"
      ]
     },
     "execution_count": 74,
     "metadata": {},
     "output_type": "execute_result"
    }
   ],
   "source": [
    "shelfFile['cats']"
   ]
  },
  {
   "cell_type": "code",
   "execution_count": 80,
   "id": "8996c897",
   "metadata": {},
   "outputs": [],
   "source": [
    "shelfFile.close()"
   ]
  },
  {
   "cell_type": "code",
   "execution_count": 81,
   "id": "2619ff2f",
   "metadata": {},
   "outputs": [],
   "source": [
    "shelfFIle = shelve.open('mydata')"
   ]
  },
  {
   "cell_type": "code",
   "execution_count": 83,
   "id": "4f10b04c",
   "metadata": {
    "scrolled": true
   },
   "outputs": [
    {
     "data": {
      "text/plain": [
       "['cats']"
      ]
     },
     "execution_count": 83,
     "metadata": {},
     "output_type": "execute_result"
    }
   ],
   "source": [
    "list(shelfFIle.keys())"
   ]
  },
  {
   "cell_type": "code",
   "execution_count": 84,
   "id": "54232a67",
   "metadata": {},
   "outputs": [],
   "source": [
    "shelfFIle.close()"
   ]
  },
  {
   "cell_type": "markdown",
   "id": "62dc6ba4",
   "metadata": {},
   "source": [
    "## importing Pprint"
   ]
  },
  {
   "cell_type": "code",
   "execution_count": null,
   "id": "c3a13441",
   "metadata": {},
   "outputs": [],
   "source": []
  },
  {
   "cell_type": "markdown",
   "id": "42bf094b",
   "metadata": {},
   "source": [
    "# Making XML, SVS file mover"
   ]
  },
  {
   "cell_type": "code",
   "execution_count": null,
   "id": "f44df900",
   "metadata": {},
   "outputs": [],
   "source": []
  }
 ],
 "metadata": {
  "kernelspec": {
   "display_name": "Python 3 (ipykernel)",
   "language": "python",
   "name": "python3"
  },
  "language_info": {
   "codemirror_mode": {
    "name": "ipython",
    "version": 3
   },
   "file_extension": ".py",
   "mimetype": "text/x-python",
   "name": "python",
   "nbconvert_exporter": "python",
   "pygments_lexer": "ipython3",
   "version": "3.11.5"
  }
 },
 "nbformat": 4,
 "nbformat_minor": 5
}
