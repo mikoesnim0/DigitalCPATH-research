{
 "cells": [
  {
   "cell_type": "markdown",
   "metadata": {
    "colab_type": "text",
    "id": "view-in-github"
   },
   "source": [
    "<a href=\"https://colab.research.google.com/github/mikoesnim0/DigitalCPATH-research/blob/main/ImgeTile512.ipynb\" target=\"_parent\"><img src=\"https://colab.research.google.com/assets/colab-badge.svg\" alt=\"Open In Colab\"/></a>"
   ]
  },
  {
   "cell_type": "code",
   "execution_count": 17,
   "metadata": {
    "id": "IGoaqj1FV0A3"
   },
   "outputs": [],
   "source": [
    "#presetting\n",
    "#is_csv\n",
    "is_csv = True\n",
    "current_path = 'file_path'\n",
    "project_path  = \"C:/Users/USER/GNU_research\"\n",
    "file_path = 'E:\\Follicular neoplasm'#'/content/drive/MyDrive'\n",
    "isGoogleColab = False\n",
    "isClone  = True"
   ]
  },
  {
   "cell_type": "code",
   "execution_count": 18,
   "metadata": {},
   "outputs": [
    {
     "data": {
      "text/plain": [
       "'C:\\\\Users\\\\USER\\\\GNU_research\\\\DeepPATH\\\\DeepPATH_code'"
      ]
     },
     "execution_count": 18,
     "metadata": {},
     "output_type": "execute_result"
    }
   ],
   "source": [
    "import pathlib\n",
    "project_path = str(pathlib.Path().resolve())\n",
    "project_path"
   ]
  },
  {
   "cell_type": "code",
   "execution_count": 3,
   "metadata": {
    "colab": {
     "base_uri": "https://localhost:8080/"
    },
    "id": "PBwDwAokifCU",
    "outputId": "941e01ca-8b07-49b4-d186-84ac36146c3b"
   },
   "outputs": [],
   "source": [
    "if isGoogleColab:\n",
    "    from google.colab import drive\n",
    "    drive.mount('/content/drive')"
   ]
  },
  {
   "cell_type": "code",
   "execution_count": 4,
   "metadata": {
    "colab": {
     "base_uri": "https://localhost:8080/"
    },
    "id": "JW7d_7Jdh2S9",
    "outputId": "fbae7694-9f6e-45b5-8485-44797ad620f5"
   },
   "outputs": [],
   "source": [
    "if not isClone:\n",
    "    !git clone https://github.com/ncoudray/DeepPATH.git"
   ]
  },
  {
   "cell_type": "code",
   "execution_count": 5,
   "metadata": {},
   "outputs": [],
   "source": [
    "# import os - for making new file system is to automate isClone\n",
    "\n",
    "# # Define the parent directory and the directory to check for\n",
    "# parent_directory = '/path/to/parent_directory'\n",
    "# directory_to_check = 'directory_to_check'\n",
    "\n",
    "# # Check if the directory exists within the parent directory\n",
    "# directory_path = os.path.join(parent_directory, directory_to_check)\n",
    "# if os.path.exists(directory_path) and os.path.isdir(directory_path):\n",
    "#     print(f\"{directory_to_check} exists within {parent_directory}.\")\n",
    "# else:\n",
    "#     print(f\"{directory_to_check} does not exist within {parent_directory}.\")\n"
   ]
  },
  {
   "cell_type": "code",
   "execution_count": 6,
   "metadata": {
    "colab": {
     "base_uri": "https://localhost:8080/"
    },
    "id": "Bzeqq5uHiSJh",
    "outputId": "19d319d2-07a4-4151-a24b-7bf4e6da1586"
   },
   "outputs": [
    {
     "name": "stdout",
     "output_type": "stream",
     "text": [
      "c:\\Users\\USER\\GNU_research\\DeepPATH\\DeepPATH_code\n"
     ]
    }
   ],
   "source": [
    "%cd \"../DeepPATH/DeepPATH_code\""
   ]
  },
  {
   "cell_type": "code",
   "execution_count": 7,
   "metadata": {
    "colab": {
     "base_uri": "https://localhost:8080/"
    },
    "id": "ClL923BTh8Ui",
    "outputId": "e2cbddee-9272-4c61-ffde-8d28785cec4b"
   },
   "outputs": [
    {
     "name": "stdout",
     "output_type": "stream",
     "text": [
      "Requirement already satisfied: openslide-python in c:\\users\\user\\appdata\\roaming\\python\\python311\\site-packages (1.3.1)\n",
      "Requirement already satisfied: Pillow in c:\\users\\user\\appdata\\roaming\\python\\python311\\site-packages (from openslide-python) (10.3.0)\n",
      "Requirement already satisfied: pydicom in c:\\users\\user\\anaconda3\\lib\\site-packages (2.4.4)\n"
     ]
    }
   ],
   "source": [
    "#importing openslide,\n",
    "# !pip install openslide\n",
    "!pip install openslide-python\n",
    "\n",
    "# For handling slide images\n",
    "#3rd 시도\n",
    "# Install Openslide\n",
    "\n",
    "# !apt-get install openslide-tools\n",
    "# Install Python bindings for Openslide\n",
    "# !pip install openslide-python    \n",
    "!pip install pydicom"
   ]
  },
  {
   "cell_type": "code",
   "execution_count": 8,
   "metadata": {},
   "outputs": [
    {
     "name": "stdout",
     "output_type": "stream",
     "text": [
      "Requirement already satisfied: opencv-python in c:\\users\\user\\anaconda3\\lib\\site-packages (4.9.0.80)\n",
      "Requirement already satisfied: numpy>=1.21.2 in c:\\users\\user\\anaconda3\\lib\\site-packages (from opencv-python) (1.24.3)\n"
     ]
    }
   ],
   "source": [
    "!pip install opencv-python"
   ]
  },
  {
   "cell_type": "code",
   "execution_count": 22,
   "metadata": {
    "id": "kRHr-mp9iFJG"
   },
   "outputs": [],
   "source": [
    "#연동되는 xml 파일 확인\n",
    "import re\n",
    "import glob\n",
    "# Define the paths\n",
    "file_path = file_path\n",
    "svs_path = file_path+\"/ImgFiles\"\n",
    "tile_path = file_path + \"/ImgFiles/Tile\"\n",
    "# Get the list of SVS and XML files\n",
    "svs_files = glob.glob(svs_path + \"/*.svs\")\n",
    "dzi_files = glob.glob(tile_path + \"/*.dzi\")"
   ]
  },
  {
   "cell_type": "markdown",
   "metadata": {
    "id": "WX0yQ4kwcHxv"
   },
   "source": [
    "#Start from here if uploaded new files"
   ]
  },
  {
   "cell_type": "code",
   "execution_count": 38,
   "metadata": {
    "colab": {
     "base_uri": "https://localhost:8080/",
     "height": 53
    },
    "id": "G5MPJGz07hzC",
    "outputId": "9fa4a951-7fb0-45d9-d4e9-7d8e1ec5529f"
   },
   "outputs": [
    {
     "data": {
      "text/html": [
       "<div>\n",
       "<style scoped>\n",
       "    .dataframe tbody tr th:only-of-type {\n",
       "        vertical-align: middle;\n",
       "    }\n",
       "\n",
       "    .dataframe tbody tr th {\n",
       "        vertical-align: top;\n",
       "    }\n",
       "\n",
       "    .dataframe thead th {\n",
       "        text-align: right;\n",
       "    }\n",
       "</style>\n",
       "<table border=\"1\" class=\"dataframe\">\n",
       "  <thead>\n",
       "    <tr style=\"text-align: right;\">\n",
       "      <th></th>\n",
       "      <th>ID</th>\n",
       "      <th>STime</th>\n",
       "      <th>TTime</th>\n",
       "      <th>Time</th>\n",
       "      <th>Succeed</th>\n",
       "    </tr>\n",
       "  </thead>\n",
       "  <tbody>\n",
       "  </tbody>\n",
       "</table>\n",
       "</div>"
      ],
      "text/plain": [
       "Empty DataFrame\n",
       "Columns: [ID, STime, TTime, Time, Succeed]\n",
       "Index: []"
      ]
     },
     "execution_count": 38,
     "metadata": {},
     "output_type": "execute_result"
    }
   ],
   "source": [
    "import pandas as pd\n",
    "import time\n",
    "csv_path = svs_path + '/logue.csv'\n",
    "is_csv = False\n",
    "if not is_csv:\n",
    "  data = {\n",
    "      'ID': [],\n",
    "      'STime': [],\n",
    "      'TTime': [],\n",
    "      'Time':[],\n",
    "      'Succeed':[]\n",
    "  }\n",
    "  df = pd.DataFrame(data)\n",
    "  df.to_csv(csv_path, index = False)\n",
    "else:\n",
    "  df = pd.read_csv(csv_path)\n",
    "df.head()"
   ]
  },
  {
   "cell_type": "code",
   "execution_count": 24,
   "metadata": {
    "id": "9pk5e1Wc9oIr"
   },
   "outputs": [],
   "source": [
    "# Function to extract file numbers from file paths\n",
    "def extract_svs(file_path):\n",
    "    # Use regular expression to extract the file number\n",
    "    match = re.search(r'(\\d+)\\.(svs)$', file_path)\n",
    "    if match:\n",
    "        return match.group(1)\n",
    "    else:\n",
    "        return None\n",
    "\n",
    "def extract_dzi(file_path):\n",
    "    # Use regular expression to extract the file number\n",
    "    match = re.search(r'(\\d+)\\.(dzi)$', file_path)\n",
    "    if match:\n",
    "        return match.group(1)\n",
    "    else:\n",
    "        return None\n",
    "\n",
    "# Extract file numbers from SVS and XML files\n",
    "svs_numbers = [extract_svs(file) for file in svs_files]\n",
    "finis_numbers = list(df['ID'])\n",
    "dzi_numbers = [extract_dzi(file) for file in dzi_files]\n",
    "\n",
    "# svs_numbers = [number for number in svs_numbers if (number not in finis_numbers and int(number) not in finis_numbers)]"
   ]
  },
  {
   "cell_type": "code",
   "execution_count": 25,
   "metadata": {
    "colab": {
     "base_uri": "https://localhost:8080/"
    },
    "id": "AXyeHYAeHEeH",
    "outputId": "064eb74e-404b-4292-eceb-bb3bc8dbdeb5"
   },
   "outputs": [
    {
     "data": {
      "text/plain": [
       "['1028114',\n",
       " '1028115',\n",
       " '1028118',\n",
       " '1028120',\n",
       " '1028123',\n",
       " '1028124',\n",
       " '1028125',\n",
       " '1028130',\n",
       " '1028132',\n",
       " '1028133',\n",
       " '1028135',\n",
       " '1028136',\n",
       " '1028137',\n",
       " '1028140',\n",
       " '1028142',\n",
       " '1028145',\n",
       " '1028146',\n",
       " '1028148',\n",
       " '1028151',\n",
       " '1028152',\n",
       " '1028153',\n",
       " '1028154',\n",
       " '1028155',\n",
       " '1028159',\n",
       " '1028160',\n",
       " '1028161',\n",
       " '1028162',\n",
       " '1028164',\n",
       " '1028165',\n",
       " '1028166',\n",
       " '1028167',\n",
       " '1028171',\n",
       " '1028172',\n",
       " '1028177',\n",
       " '1028178',\n",
       " '1028179',\n",
       " '1028180',\n",
       " '1028181',\n",
       " '1028182',\n",
       " '1028185']"
      ]
     },
     "execution_count": 25,
     "metadata": {},
     "output_type": "execute_result"
    }
   ],
   "source": [
    "svs_numbers"
   ]
  },
  {
   "cell_type": "code",
   "execution_count": 26,
   "metadata": {
    "colab": {
     "base_uri": "https://localhost:8080/"
    },
    "id": "5y3jH3_c9p4r",
    "outputId": "74d29221-c4b9-4bc1-8d6c-abd1b86b53e7"
   },
   "outputs": [
    {
     "name": "stdout",
     "output_type": "stream",
     "text": [
      "E:\\Follicular neoplasm/ImgFiles\\1028114.svs\n"
     ]
    }
   ],
   "source": [
    "# Iterate over files in batches\n",
    "import os\n",
    "try:\n",
    "  fileN = svs_numbers[0]\n",
    "  svs_file_path = os.path.join(svs_path,fileN + '.svs')\n",
    "\n",
    "  print(svs_file_path)\n",
    "except Exception as e:\n",
    "  print(f\"and error occured as {e}\")"
   ]
  },
  {
   "cell_type": "code",
   "execution_count": 27,
   "metadata": {
    "id": "pKRNIszv9muD"
   },
   "outputs": [],
   "source": [
    "# !python 00_preprocessing/0b_tileLoop_deepzoom6.py -s 512 -e 0 -j 2 -B 50 -M 20 -x \"/content/drive/MyDrive/ImgFiles\" -o \"/content/drive/MyDrive/ImgFiles/Tile\" \"{svs_file_path}\"\n",
    "# !pip show openslide-python\n",
    "# The path can also be read from a config file, etc.\n",
    "OPENSLIDE_PATH = r\"C:\\Users\\USER\\openslide\\bin\"\n",
    "\n",
    "import os\n",
    "if hasattr(os, 'add_dll_directory'):\n",
    "    # Windows\n",
    "    with os.add_dll_directory(OPENSLIDE_PATH):\n",
    "        import openslide\n",
    "else:\n",
    "    import openslide"
   ]
  },
  {
   "cell_type": "code",
   "execution_count": 43,
   "metadata": {
    "colab": {
     "base_uri": "https://localhost:8080/"
    },
    "id": "mRTy-DzsWctj",
    "outputId": "01e5f4dd-b907-4b62-ccd5-94de7e64c0f3"
   },
   "outputs": [],
   "source": [
    "#svs 파일 업로드되거나 일단 타일링 또는 진행중인 파일이 무엇인지 표시되도록 하는 기능 추가 필요.\n",
    "svs_numbers = svs_numbers[0:2]\n",
    "import time\n",
    "for fileN in svs_numbers:\n",
    "  svs_file_path = svs_path +'/'+ str(fileN)+'.svs'\n",
    "  print(svs_file_path)\n",
    "  now = pd.Timestamp.now()\n",
    "  success = True\n",
    "\n",
    "#   tile_pth = '/content/drive/MyDrive/ImgFiles/Tile'\n",
    "\n",
    "  try:\n",
    "    !python 00_preprocessing/0b_tileLoop_deepzoom6.py -s 512 -e 0 -j 2 -B 50 -M 20 -x \"{svs_path}\" -o \"{tile_path}\" \"{svs_file_path}\"\n",
    "  except Exception as e:\n",
    "    success = False\n",
    "    print(e)\n",
    "  end = pd.Timestamp.now()\n",
    "  df.loc[len(df.index)] = [fileN, fileN, now, end ,end-now, success ]  # adding a row\n",
    "  df.to_csv(csv_path)\n",
    "  print(f\"number {fileN} executed\")"
   ]
  },
  {
   "cell_type": "code",
   "execution_count": 39,
   "metadata": {},
   "outputs": [
    {
     "name": "stdout",
     "output_type": "stream",
     "text": [
      "Number 1028114 executed\n"
     ]
    }
   ],
   "source": [
    "# Adding a row to the DataFrame\n",
    "duration = end - now\n",
    "df.loc[len(df.index)] = [fileN, now, end, duration, success]\n",
    "\n",
    "# Saving the DataFrame to CSV\n",
    "df.to_csv(csv_path)\n",
    "\n",
    "print(f\"Number {fileN} executed\")"
   ]
  },
  {
   "cell_type": "code",
   "execution_count": 40,
   "metadata": {},
   "outputs": [
    {
     "data": {
      "text/html": [
       "<div>\n",
       "<style scoped>\n",
       "    .dataframe tbody tr th:only-of-type {\n",
       "        vertical-align: middle;\n",
       "    }\n",
       "\n",
       "    .dataframe tbody tr th {\n",
       "        vertical-align: top;\n",
       "    }\n",
       "\n",
       "    .dataframe thead th {\n",
       "        text-align: right;\n",
       "    }\n",
       "</style>\n",
       "<table border=\"1\" class=\"dataframe\">\n",
       "  <thead>\n",
       "    <tr style=\"text-align: right;\">\n",
       "      <th></th>\n",
       "      <th>ID</th>\n",
       "      <th>STime</th>\n",
       "      <th>TTime</th>\n",
       "      <th>Time</th>\n",
       "      <th>Succeed</th>\n",
       "    </tr>\n",
       "  </thead>\n",
       "  <tbody>\n",
       "    <tr>\n",
       "      <th>0</th>\n",
       "      <td>1028114</td>\n",
       "      <td>2024-04-02 19:05:26.362225</td>\n",
       "      <td>2024-04-02 19:25:04.027948</td>\n",
       "      <td>0 days 00:19:37.665723</td>\n",
       "      <td>True</td>\n",
       "    </tr>\n",
       "  </tbody>\n",
       "</table>\n",
       "</div>"
      ],
      "text/plain": [
       "        ID                      STime                      TTime  \\\n",
       "0  1028114 2024-04-02 19:05:26.362225 2024-04-02 19:25:04.027948   \n",
       "\n",
       "                    Time  Succeed  \n",
       "0 0 days 00:19:37.665723     True  "
      ]
     },
     "execution_count": 40,
     "metadata": {},
     "output_type": "execute_result"
    }
   ],
   "source": [
    "df"
   ]
  },
  {
   "cell_type": "code",
   "execution_count": 42,
   "metadata": {
    "id": "4oHv89_XrUHq"
   },
   "outputs": [],
   "source": [
    "#svs 파일 업로드되거나 일단 타일링 또는 진행중인 파일이 무엇인지 표시되도록 하는 기능 추가 필요.\n",
    "svs_numbers = svs_numbers[1:]\n",
    "import time\n",
    "for fileN in svs_numbers:\n",
    "  svs_file_path = svs_path +'/'+ str(fileN)+'.svs'\n",
    "  print(svs_file_path)\n",
    "  now = pd.Timestamp.now()\n",
    "  success = True\n",
    "\n",
    "#   tile_pth = '/content/drive/MyDrive/ImgFiles/Tile'\n",
    "\n",
    "  try:\n",
    "    !python 00_preprocessing/0b_tileLoop_deepzoom6.py -s 512 -e 0 -j 2 -B 50 -M 20 -x \"{svs_path}\" -o \"{tile_path}\" \"{svs_file_path}\"\n",
    "  except Exception as e:\n",
    "    success = False\n",
    "    print(e)\n",
    "  end = pd.Timestamp.now()\n",
    "  df.loc[len(df.index)] = [fileN, now, end ,end-now, success ]  # adding a row\n",
    "  df.to_csv(csv_path)\n",
    "  print(f\"number {fileN} executed\")"
   ]
  },
  {
   "cell_type": "code",
   "execution_count": null,
   "metadata": {},
   "outputs": [],
   "source": []
  }
 ],
 "metadata": {
  "colab": {
   "include_colab_link": true,
   "provenance": []
  },
  "kernelspec": {
   "display_name": "Python 3 (ipykernel)",
   "language": "python",
   "name": "python3"
  },
  "language_info": {
   "codemirror_mode": {
    "name": "ipython",
    "version": 3
   },
   "file_extension": ".py",
   "mimetype": "text/x-python",
   "name": "python",
   "nbconvert_exporter": "python",
   "pygments_lexer": "ipython3",
   "version": "3.11.5"
  }
 },
 "nbformat": 4,
 "nbformat_minor": 1
}
