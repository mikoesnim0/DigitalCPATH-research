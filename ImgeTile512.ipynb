{
 "cells": [
  {
   "cell_type": "markdown",
   "metadata": {
    "colab_type": "text",
    "id": "view-in-github"
   },
   "source": [
    "<a href=\"https://colab.research.google.com/github/mikoesnim0/DigitalCPATH-research/blob/main/ImgeTile512.ipynb\" target=\"_parent\"><img src=\"https://colab.research.google.com/assets/colab-badge.svg\" alt=\"Open In Colab\"/></a>"
   ]
  },
  {
   "cell_type": "code",
   "execution_count": 1,
   "metadata": {
    "id": "IGoaqj1FV0A3"
   },
   "outputs": [],
   "source": [
    "#presetting\n",
    "#is_csv\n",
    "is_csv = True\n",
    "current_path = 'file_path'\n",
    "project_path  = \"C:/Users/USER/GNU_research\"\n",
    "file_path = 'E:\\Follicular neoplasm'#'/content/drive/MyDrive'\n",
    "isGoogleColab = False\n",
    "isClone  = True\n",
    "isjupyter_notebook = True\n"
   ]
  },
  {
   "cell_type": "code",
   "execution_count": 25,
   "metadata": {},
   "outputs": [
    {
     "data": {
      "text/plain": [
       "'C:\\\\Users\\\\USER\\\\GNU_research\\\\DeepPATH\\\\DeepPATH_code'"
      ]
     },
     "execution_count": 25,
     "metadata": {},
     "output_type": "execute_result"
    }
   ],
   "source": [
    "import pathlib\n",
    "import os\n",
    "import glob\n",
    "import re\n",
    "project_path = str(pathlib.Path().resolve())\n",
    "project_path"
   ]
  },
  {
   "cell_type": "code",
   "execution_count": 3,
   "metadata": {
    "colab": {
     "base_uri": "https://localhost:8080/"
    },
    "id": "PBwDwAokifCU",
    "outputId": "941e01ca-8b07-49b4-d186-84ac36146c3b"
   },
   "outputs": [],
   "source": [
    "if isGoogleColab:\n",
    "    from google.colab import drive\n",
    "    drive.mount('/content/drive')"
   ]
  },
  {
   "cell_type": "code",
   "execution_count": 4,
   "metadata": {
    "colab": {
     "base_uri": "https://localhost:8080/"
    },
    "id": "JW7d_7Jdh2S9",
    "outputId": "fbae7694-9f6e-45b5-8485-44797ad620f5"
   },
   "outputs": [],
   "source": [
    "if not isClone:\n",
    "    !git clone https://github.com/ncoudray/DeepPATH.git"
   ]
  },
  {
   "cell_type": "code",
   "execution_count": 11,
   "metadata": {},
   "outputs": [],
   "source": [
    "# import os - for making new file system is to automate isClone\n",
    "\n",
    "# # Define the parent directory and the directory to check for\n",
    "# parent_directory = '/path/to/parent_directory'\n",
    "# directory_to_check = 'directory_to_check'\n",
    "\n",
    "# # Check if the directory exists within the parent directory\n",
    "# directory_path = os.path.join(parent_directory, directory_to_check)\n",
    "# if os.path.exists(directory_path) and os.path.isdir(directory_path):\n",
    "#     print(f\"{directory_to_check} exists within {parent_directory}.\")\n",
    "# else:\n",
    "#     print(f\"{directory_to_check} does not exist within {parent_directory}.\")\n"
   ]
  },
  {
   "cell_type": "code",
   "execution_count": 12,
   "metadata": {
    "colab": {
     "base_uri": "https://localhost:8080/"
    },
    "id": "Bzeqq5uHiSJh",
    "outputId": "19d319d2-07a4-4151-a24b-7bf4e6da1586"
   },
   "outputs": [
    {
     "name": "stdout",
     "output_type": "stream",
     "text": [
      "[WinError 3] The system cannot find the path specified: '../DeepPATH/DeepPATH_code'\n",
      "C:\\Users\\USER\\GNU_research\\DeepPATH\\DeepPATH_code\n"
     ]
    }
   ],
   "source": [
    "%cd \"../DeepPATH/DeepPATH_code\""
   ]
  },
  {
   "cell_type": "code",
   "execution_count": 13,
   "metadata": {
    "colab": {
     "base_uri": "https://localhost:8080/"
    },
    "id": "ClL923BTh8Ui",
    "outputId": "e2cbddee-9272-4c61-ffde-8d28785cec4b"
   },
   "outputs": [
    {
     "name": "stdout",
     "output_type": "stream",
     "text": [
      "Requirement already satisfied: openslide-python in c:\\users\\user\\appdata\\roaming\\python\\python311\\site-packages (1.3.1)\n",
      "Requirement already satisfied: Pillow in c:\\users\\user\\appdata\\roaming\\python\\python311\\site-packages (from openslide-python) (10.3.0)\n",
      "Requirement already satisfied: pydicom in c:\\users\\user\\anaconda3\\lib\\site-packages (2.4.4)\n"
     ]
    }
   ],
   "source": [
    "#importing openslide,\n",
    "# !pip install openslide\n",
    "!pip install openslide-python\n",
    "\n",
    "# For handling slide images\n",
    "#3rd 시도\n",
    "# Install Openslide\n",
    "if isGoogleColab:\n",
    "    !apt-get install openslide-tools\n",
    "# Install Python bindings for Openslide\n",
    "# !pip install openslide-python    \n",
    "!pip install pydicom"
   ]
  },
  {
   "cell_type": "code",
   "execution_count": 8,
   "metadata": {},
   "outputs": [
    {
     "name": "stdout",
     "output_type": "stream",
     "text": [
      "Requirement already satisfied: opencv-python in c:\\users\\user\\anaconda3\\lib\\site-packages (4.9.0.80)\n",
      "Requirement already satisfied: numpy>=1.21.2 in c:\\users\\user\\anaconda3\\lib\\site-packages (from opencv-python) (1.24.3)\n"
     ]
    }
   ],
   "source": [
    "if isjupyter_notebook:\n",
    "    !pip install opencv-python"
   ]
  },
  {
   "cell_type": "markdown",
   "metadata": {
    "id": "WX0yQ4kwcHxv"
   },
   "source": [
    "## =>Start from here if uploaded new files"
   ]
  },
  {
   "cell_type": "code",
   "execution_count": 52,
   "metadata": {
    "id": "kRHr-mp9iFJG"
   },
   "outputs": [],
   "source": [
    "#연동되는 xml 파일 확인\n",
    "import re\n",
    "import glob\n",
    "# Define the paths\n",
    "file_path = file_path\n",
    "svs_path = file_path+\"/ImgFiles\"\n",
    "tile_path = file_path + \"/ImgFiles/Tile\"\n",
    "# Get the list of SVS and XML files\n",
    "svs_files = glob.glob(svs_path + \"/*.svs\")\n",
    "dzi_files = glob.glob(tile_path + \"/*.dzi\")"
   ]
  },
  {
   "cell_type": "code",
   "execution_count": 53,
   "metadata": {
    "colab": {
     "base_uri": "https://localhost:8080/",
     "height": 53
    },
    "id": "G5MPJGz07hzC",
    "outputId": "9fa4a951-7fb0-45d9-d4e9-7d8e1ec5529f"
   },
   "outputs": [
    {
     "data": {
      "text/html": [
       "<div>\n",
       "<style scoped>\n",
       "    .dataframe tbody tr th:only-of-type {\n",
       "        vertical-align: middle;\n",
       "    }\n",
       "\n",
       "    .dataframe tbody tr th {\n",
       "        vertical-align: top;\n",
       "    }\n",
       "\n",
       "    .dataframe thead th {\n",
       "        text-align: right;\n",
       "    }\n",
       "</style>\n",
       "<table border=\"1\" class=\"dataframe\">\n",
       "  <thead>\n",
       "    <tr style=\"text-align: right;\">\n",
       "      <th></th>\n",
       "      <th>Unnamed: 0</th>\n",
       "      <th>ID</th>\n",
       "      <th>STime</th>\n",
       "      <th>TTime</th>\n",
       "      <th>Time</th>\n",
       "      <th>Succeed</th>\n",
       "    </tr>\n",
       "  </thead>\n",
       "  <tbody>\n",
       "    <tr>\n",
       "      <th>0</th>\n",
       "      <td>0.0</td>\n",
       "      <td>1028118</td>\n",
       "      <td>2024-04-02 23:00:21.253842</td>\n",
       "      <td>2024-04-03 00:41:49.015344</td>\n",
       "      <td>0 days 01:41:27.761502</td>\n",
       "      <td>True</td>\n",
       "    </tr>\n",
       "    <tr>\n",
       "      <th>1</th>\n",
       "      <td>1.0</td>\n",
       "      <td>1028120</td>\n",
       "      <td>2024-04-03 00:41:49.379399</td>\n",
       "      <td>2024-04-03 00:59:19.285340</td>\n",
       "      <td>0 days 00:17:29.905941</td>\n",
       "      <td>True</td>\n",
       "    </tr>\n",
       "    <tr>\n",
       "      <th>2</th>\n",
       "      <td>2.0</td>\n",
       "      <td>1028123</td>\n",
       "      <td>2024-04-03 00:59:19.455723</td>\n",
       "      <td>2024-04-03 01:16:36.110709</td>\n",
       "      <td>0 days 00:17:16.654986</td>\n",
       "      <td>True</td>\n",
       "    </tr>\n",
       "    <tr>\n",
       "      <th>3</th>\n",
       "      <td>3.0</td>\n",
       "      <td>1028124</td>\n",
       "      <td>2024-04-03 01:16:36.202491</td>\n",
       "      <td>2024-04-03 01:30:54.017286</td>\n",
       "      <td>0 days 00:14:17.814795</td>\n",
       "      <td>True</td>\n",
       "    </tr>\n",
       "    <tr>\n",
       "      <th>4</th>\n",
       "      <td>4.0</td>\n",
       "      <td>1028125</td>\n",
       "      <td>2024-04-03 01:30:54.120011</td>\n",
       "      <td>2024-04-03 01:47:01.454812</td>\n",
       "      <td>0 days 00:16:07.334801</td>\n",
       "      <td>True</td>\n",
       "    </tr>\n",
       "  </tbody>\n",
       "</table>\n",
       "</div>"
      ],
      "text/plain": [
       "   Unnamed: 0       ID                       STime  \\\n",
       "0         0.0  1028118  2024-04-02 23:00:21.253842   \n",
       "1         1.0  1028120  2024-04-03 00:41:49.379399   \n",
       "2         2.0  1028123  2024-04-03 00:59:19.455723   \n",
       "3         3.0  1028124  2024-04-03 01:16:36.202491   \n",
       "4         4.0  1028125  2024-04-03 01:30:54.120011   \n",
       "\n",
       "                        TTime                    Time  Succeed  \n",
       "0  2024-04-03 00:41:49.015344  0 days 01:41:27.761502     True  \n",
       "1  2024-04-03 00:59:19.285340  0 days 00:17:29.905941     True  \n",
       "2  2024-04-03 01:16:36.110709  0 days 00:17:16.654986     True  \n",
       "3  2024-04-03 01:30:54.017286  0 days 00:14:17.814795     True  \n",
       "4  2024-04-03 01:47:01.454812  0 days 00:16:07.334801     True  "
      ]
     },
     "execution_count": 53,
     "metadata": {},
     "output_type": "execute_result"
    }
   ],
   "source": [
    "import pandas as pd\n",
    "import time\n",
    "csv_path = svs_path + '/logue.csv'\n",
    "# is_csv = True\n",
    "if not is_csv:\n",
    "  df = pd.DataFrame(columns=['ID', 'STime', 'TTime', 'Time', 'Succeed'])\n",
    "  df.to_csv(csv_path, index = False)\n",
    "# Assuming `svs_numbers`, `svs_path`, and other necessary variables are defined elsewhere\n",
    "# Initialize the DataFrame with correct column names if it's not already initialized\n",
    "\n",
    "else:\n",
    "  df = pd.read_csv(csv_path)\n",
    "df.head()"
   ]
  },
  {
   "cell_type": "code",
   "execution_count": 54,
   "metadata": {
    "id": "9pk5e1Wc9oIr"
   },
   "outputs": [
    {
     "data": {
      "text/plain": [
       "['1028028',\n",
       " '1028029',\n",
       " '1028031',\n",
       " '1028032',\n",
       " '1028033',\n",
       " '1028034',\n",
       " '1028035',\n",
       " '1028036',\n",
       " '1028040',\n",
       " '1028041',\n",
       " '1028042',\n",
       " '1028043',\n",
       " '1028044',\n",
       " '1028045',\n",
       " '1028046',\n",
       " '1028047',\n",
       " '1028048',\n",
       " '1028049',\n",
       " '1028050',\n",
       " '1028051',\n",
       " '1028054',\n",
       " '1028055',\n",
       " '1028058',\n",
       " '1028059',\n",
       " '1028060',\n",
       " '1028061',\n",
       " '1028063',\n",
       " '1028064',\n",
       " '1028065',\n",
       " '1028066',\n",
       " '1028067',\n",
       " '1028068',\n",
       " '1028069',\n",
       " '1028070',\n",
       " '1028071',\n",
       " '1028072',\n",
       " '1028073',\n",
       " '1028074',\n",
       " '1028076',\n",
       " '1028077',\n",
       " '1028078',\n",
       " '1028079',\n",
       " '1028080',\n",
       " '1028081',\n",
       " '1028082',\n",
       " '1028083',\n",
       " '1028085',\n",
       " '1028086',\n",
       " '1028087',\n",
       " '1028088',\n",
       " '1028089',\n",
       " '1028090',\n",
       " '1028091',\n",
       " '1028092',\n",
       " '1028093',\n",
       " '1028095',\n",
       " '1028096',\n",
       " '1028097',\n",
       " '1028098',\n",
       " '1028099',\n",
       " '1028100',\n",
       " '1028101',\n",
       " '1028102',\n",
       " '1028103',\n",
       " '1028104',\n",
       " '1028105',\n",
       " '1028106',\n",
       " '1028107',\n",
       " '1028108',\n",
       " '1028110',\n",
       " '1028112',\n",
       " '1028113',\n",
       " '1028114',\n",
       " '1028115',\n",
       " '1028118',\n",
       " '1028120',\n",
       " '1028123',\n",
       " '1028124',\n",
       " '1028125',\n",
       " '1028130',\n",
       " '1028132',\n",
       " '1028133',\n",
       " '1028135',\n",
       " '1028136',\n",
       " '1028137',\n",
       " '1028140',\n",
       " '1028142',\n",
       " '1028145',\n",
       " '1028146',\n",
       " '1028148',\n",
       " '1028150',\n",
       " '1028151',\n",
       " '1028152',\n",
       " '1028153',\n",
       " '1028154',\n",
       " '1028155',\n",
       " '1028159',\n",
       " '1028160',\n",
       " '1028161',\n",
       " '1028162',\n",
       " '1028164',\n",
       " '1028165',\n",
       " '1028166',\n",
       " '1028167',\n",
       " '1028171',\n",
       " '1028172',\n",
       " '1028177',\n",
       " '1028178',\n",
       " '1028179',\n",
       " '1028180',\n",
       " '1028181',\n",
       " '1028182',\n",
       " '1028185',\n",
       " '1028253',\n",
       " '1028254',\n",
       " '1028255',\n",
       " '1028256',\n",
       " '1028258',\n",
       " '1028259',\n",
       " '1028260']"
      ]
     },
     "execution_count": 54,
     "metadata": {},
     "output_type": "execute_result"
    }
   ],
   "source": [
    "# Function to extract file numbers from file paths\n",
    "def extract_svs(file_path):\n",
    "    # Use regular expression to extract the file number\n",
    "    match = re.search(r'(\\d+)\\.(svs)$', file_path)\n",
    "    if match:\n",
    "        return match.group(1)\n",
    "    else:\n",
    "        return None\n",
    "\n",
    "def extract_dzi(file_path):\n",
    "    # Use regular expression to extract the file number\n",
    "    match = re.search(r'(\\d+)\\.(dzi)$', file_path)\n",
    "    if match:\n",
    "        return match.group(1)\n",
    "    else:\n",
    "        return None\n",
    "def extract_extension(file_path, extension):\n",
    "    pattern = f'*.{extension}'\n",
    "    files = glob.glob(os.path.join(file_path, pattern))\n",
    "    extracted_numbers = []\n",
    "    \n",
    "    # Extract numbers from the filenames\n",
    "    for file_path in files:\n",
    "        match = re.search(r'(\\d+)\\.' + re.escape(extension) + '$', file_path)\n",
    "        if match:\n",
    "            extracted_numbers.append(match.group(1))\n",
    "    \n",
    "    return extracted_numbers\n",
    "\n",
    "# Extract file numbers from SVS and XML files\n",
    "svs_numbers = [extract_svs(file) for file in svs_files]\n",
    "finis_numbers = list(df['ID'])\n",
    "dzi_numbers = [extract_dzi(file) for file in dzi_files]\n",
    "xml_numbers = extract_extension(svs_path, 'xml')\n",
    "# svs_numbers = [number for number in svs_numbers if (number not in finis_numbers and int(number) not in finis_numbers)]\n",
    "xml_numbers"
   ]
  },
  {
   "cell_type": "code",
   "execution_count": 55,
   "metadata": {
    "colab": {
     "base_uri": "https://localhost:8080/"
    },
    "id": "AXyeHYAeHEeH",
    "outputId": "064eb74e-404b-4292-eceb-bb3bc8dbdeb5"
   },
   "outputs": [
    {
     "data": {
      "text/plain": [
       "['1028042',\n",
       " '1028043',\n",
       " '1028044',\n",
       " '1028045',\n",
       " '1028046',\n",
       " '1028047',\n",
       " '1028048',\n",
       " '1028063',\n",
       " '1028064',\n",
       " '1028065',\n",
       " '1028066',\n",
       " '1028067',\n",
       " '1028068',\n",
       " '1028069',\n",
       " '1028070',\n",
       " '1028071',\n",
       " '1028072',\n",
       " '1028073',\n",
       " '1028074',\n",
       " '1028076',\n",
       " '1028077',\n",
       " '1028078',\n",
       " '1028079',\n",
       " '1028080',\n",
       " '1028081',\n",
       " '1028082',\n",
       " '1028083',\n",
       " '1028085',\n",
       " '1028086',\n",
       " '1028087',\n",
       " '1028088',\n",
       " '1028089',\n",
       " '1028090',\n",
       " '1028095',\n",
       " '1028110',\n",
       " '1028165']"
      ]
     },
     "execution_count": 55,
     "metadata": {},
     "output_type": "execute_result"
    }
   ],
   "source": [
    "svs_numbers = [i for i in xml_numbers if i not in dzi_numbers]\n",
    "svs_numbers"
   ]
  },
  {
   "cell_type": "code",
   "execution_count": 56,
   "metadata": {
    "colab": {
     "base_uri": "https://localhost:8080/"
    },
    "id": "5y3jH3_c9p4r",
    "outputId": "74d29221-c4b9-4bc1-8d6c-abd1b86b53e7"
   },
   "outputs": [
    {
     "name": "stdout",
     "output_type": "stream",
     "text": [
      "E:\\Follicular neoplasm/ImgFiles\\1028042.svs\n"
     ]
    }
   ],
   "source": [
    "# Iterate over files in batches\n",
    "import os\n",
    "try:\n",
    "  fileN = svs_numbers[0]\n",
    "  svs_file_path = os.path.join(svs_path,fileN + '.svs')\n",
    "\n",
    "  print(svs_file_path)\n",
    "except Exception as e:\n",
    "  print(f\"and error occured as {e}\")"
   ]
  },
  {
   "cell_type": "code",
   "execution_count": 57,
   "metadata": {
    "id": "pKRNIszv9muD"
   },
   "outputs": [],
   "source": [
    "# !python 00_preprocessing/0b_tileLoop_deepzoom6.py -s 512 -e 0 -j 2 -B 50 -M 20 -x \"/content/drive/MyDrive/ImgFiles\" -o \"/content/drive/MyDrive/ImgFiles/Tile\" \"{svs_file_path}\"\n",
    "# !pip show openslide-python\n",
    "# The path can also be read from a config file, etc.\n",
    "OPENSLIDE_PATH = r\"C:\\Users\\USER\\openslide\\bin\"\n",
    "\n",
    "import os\n",
    "if hasattr(os, 'add_dll_directory'):\n",
    "    # Windows\n",
    "    with os.add_dll_directory(OPENSLIDE_PATH):\n",
    "        import openslide\n",
    "else:\n",
    "    import openslide"
   ]
  },
  {
   "cell_type": "code",
   "execution_count": 58,
   "metadata": {},
   "outputs": [
    {
     "data": {
      "text/html": [
       "<div>\n",
       "<style scoped>\n",
       "    .dataframe tbody tr th:only-of-type {\n",
       "        vertical-align: middle;\n",
       "    }\n",
       "\n",
       "    .dataframe tbody tr th {\n",
       "        vertical-align: top;\n",
       "    }\n",
       "\n",
       "    .dataframe thead th {\n",
       "        text-align: right;\n",
       "    }\n",
       "</style>\n",
       "<table border=\"1\" class=\"dataframe\">\n",
       "  <thead>\n",
       "    <tr style=\"text-align: right;\">\n",
       "      <th></th>\n",
       "      <th>Unnamed: 0</th>\n",
       "      <th>ID</th>\n",
       "      <th>STime</th>\n",
       "      <th>TTime</th>\n",
       "      <th>Time</th>\n",
       "      <th>Succeed</th>\n",
       "    </tr>\n",
       "  </thead>\n",
       "  <tbody>\n",
       "    <tr>\n",
       "      <th>50</th>\n",
       "      <td>NaN</td>\n",
       "      <td>1028110</td>\n",
       "      <td>2024-04-04 12:10:36.765656</td>\n",
       "      <td>2024-04-04 12:10:39.540893</td>\n",
       "      <td>0 days 00:00:02.775237</td>\n",
       "      <td>True</td>\n",
       "    </tr>\n",
       "    <tr>\n",
       "      <th>51</th>\n",
       "      <td>NaN</td>\n",
       "      <td>1028111</td>\n",
       "      <td>2024-04-04 12:10:39.540893</td>\n",
       "      <td>2024-04-04 12:28:41.253100</td>\n",
       "      <td>0 days 00:18:01.712207</td>\n",
       "      <td>True</td>\n",
       "    </tr>\n",
       "    <tr>\n",
       "      <th>52</th>\n",
       "      <td>NaN</td>\n",
       "      <td>1028114</td>\n",
       "      <td>2024-04-04 12:28:41.253100</td>\n",
       "      <td>2024-04-04 12:41:42.926282</td>\n",
       "      <td>0 days 00:13:01.673182</td>\n",
       "      <td>True</td>\n",
       "    </tr>\n",
       "    <tr>\n",
       "      <th>53</th>\n",
       "      <td>NaN</td>\n",
       "      <td>1028115</td>\n",
       "      <td>2024-04-04 12:41:42.927416</td>\n",
       "      <td>2024-04-04 12:49:31.366492</td>\n",
       "      <td>0 days 00:07:48.439076</td>\n",
       "      <td>True</td>\n",
       "    </tr>\n",
       "    <tr>\n",
       "      <th>54</th>\n",
       "      <td>NaN</td>\n",
       "      <td>0</td>\n",
       "      <td>2024-04-16 12:37:37.921485</td>\n",
       "      <td>2024-04-16 12:37:37.921485</td>\n",
       "      <td>0 days 00:00:00</td>\n",
       "      <td>False</td>\n",
       "    </tr>\n",
       "  </tbody>\n",
       "</table>\n",
       "</div>"
      ],
      "text/plain": [
       "    Unnamed: 0       ID                       STime  \\\n",
       "50         NaN  1028110  2024-04-04 12:10:36.765656   \n",
       "51         NaN  1028111  2024-04-04 12:10:39.540893   \n",
       "52         NaN  1028114  2024-04-04 12:28:41.253100   \n",
       "53         NaN  1028115  2024-04-04 12:41:42.927416   \n",
       "54         NaN        0  2024-04-16 12:37:37.921485   \n",
       "\n",
       "                         TTime                    Time  Succeed  \n",
       "50  2024-04-04 12:10:39.540893  0 days 00:00:02.775237     True  \n",
       "51  2024-04-04 12:28:41.253100  0 days 00:18:01.712207     True  \n",
       "52  2024-04-04 12:41:42.926282  0 days 00:13:01.673182     True  \n",
       "53  2024-04-04 12:49:31.366492  0 days 00:07:48.439076     True  \n",
       "54  2024-04-16 12:37:37.921485         0 days 00:00:00    False  "
      ]
     },
     "execution_count": 58,
     "metadata": {},
     "output_type": "execute_result"
    }
   ],
   "source": [
    "#df experement\n",
    "now = pd.Timestamp.now()\n",
    "end = pd.Timestamp.now()\n",
    "success= False\n",
    "new_row = {'ID': 0, 'STime': now, 'TTime': end, 'Time': end-now, 'Succeed': success}\n",
    "new_row_df = pd.DataFrame([new_row])\n",
    "df = pd.concat([df, new_row_df], ignore_index = True)\n",
    "df.tail()"
   ]
  },
  {
   "cell_type": "code",
   "execution_count": null,
   "metadata": {
    "colab": {
     "base_uri": "https://localhost:8080/"
    },
    "id": "mRTy-DzsWctj",
    "outputId": "01e5f4dd-b907-4b62-ccd5-94de7e64c0f3",
    "scrolled": false
   },
   "outputs": [
    {
     "name": "stdout",
     "output_type": "stream",
     "text": [
      "E:\\Follicular neoplasm/ImgFiles/1028042.svs\n",
      "^C\n",
      "Number 1028042 executed\n",
      "E:\\Follicular neoplasm/ImgFiles/1028043.svs\n"
     ]
    }
   ],
   "source": [
    "# #svs 파일 업로드되거나 일단 타일링 또는 진행중인 파일이 무엇인지 표시되도록 하는 기능 추가 필요.\n",
    "# import time  \n",
    "# svs_numbers = svs_numbers[0:1]\n",
    "# for fileN in svs_numbers:\n",
    "#     svs_file_path = svs_path + '/' + str(fileN) + '.svs'\n",
    "#     print(svs_file_path)\n",
    "    \n",
    "#     now = pd.Timestamp.now()\n",
    "#     success = True\n",
    "\n",
    "#     try:\n",
    "#         # Assuming the presence of a script that processes the file\n",
    "#         # You'll need to replace this with your actual processing code\n",
    "#         # For example, the commented-out line below is a placeholder for your processing code\n",
    "#         !python 00_preprocessing/0b_tileLoop_deepzoom6.py -s 512 -e 0 -j 2 -B 50 -M 20 -x \"{svs_path}\" -o \"{tile_path}\" \"{svs_file_path}\"\n",
    "        \n",
    "#     except Exception as e:\n",
    "#         success = False\n",
    "#         print(e)\n",
    "\n",
    "#     end = pd.Timestamp.now()\n",
    "    \n",
    "#     # Create a new row as a dictionary\n",
    "#     new_row = {'ID': fileN, 'STime': now, 'TTime': end, 'Time': end-now, 'Succeed': success}\n",
    "    \n",
    "#     # Append the new row to the DataFrame\n",
    "#     df = df.append(new_row, ignore_index=True)\n",
    "    \n",
    "#     print(f\"Number {fileN} executed\")\n",
    "\n",
    "# # After processing all files, save the DataFrame to a CSV\n",
    "# df.to_csv(csv_path, index=False)\n",
    "# print(\"CSV file has been saved.\")\n",
    "\n",
    "# import time\n",
    "# import pandas as pd\n",
    "\n",
    "# 가정: svs_numbers와 기타 변수들은 이미 정의되어 있다.\n",
    "\n",
    "df = pd.DataFrame()  # 비어있는 초기 DataFrame 생성\n",
    "for fileN in svs_numbers:\n",
    "    svs_file_path = svs_path + '/' + str(fileN) + '.svs'\n",
    "    print(svs_file_path)\n",
    "    \n",
    "    now = pd.Timestamp.now()\n",
    "    success = True\n",
    "\n",
    "    try:\n",
    "        # 파일 처리 스크립트 호출 예시 (실제로 필요한 스크립트로 대체 필요)\n",
    "        !python 00_preprocessing/0b_tileLoop_deepzoom6.py -s 512 -e 0 -j 2 -B 50 -M 20 -x \"{svs_path}\" -o \"{tile_path}\" \"{svs_file_path}\"\n",
    "        \n",
    "    except Exception as e:\n",
    "        success = False\n",
    "        print(e)\n",
    "\n",
    "    end = pd.Timestamp.now()\n",
    "    \n",
    "    # 새로운 행 생성\n",
    "    new_row = pd.DataFrame({'ID': [fileN], 'STime': [now], 'TTime': [end], 'Time': [end-now], 'Succeed': [success]})\n",
    "    \n",
    "    # concat 함수를 사용하여 행 추가\n",
    "    df = pd.concat([df, new_row], ignore_index=True)\n",
    "    \n",
    "    print(f\"Number {fileN} executed\")\n",
    "\n",
    "# 모든 파일 처리 후, DataFrame을 CSV로 저장\n",
    "df.to_csv(csv_path, index=False)\n",
    "print(\"CSV file has been saved.\")"
   ]
  },
  {
   "cell_type": "code",
   "execution_count": null,
   "metadata": {},
   "outputs": [],
   "source": [
    "#svs 파일 업로드되거나 일단 타일링 또는 진행중인 파일이 무엇인지 표시되도록 하는 기능 추가 필요.\n",
    "# svs_numbers = svs_numbers[:]\n",
    "if isjupyter_notebook:\n",
    "    !jupyter notebook --NotebookApp.iopub_data_rate_limit=1.0e9"
   ]
  },
  {
   "cell_type": "code",
   "execution_count": 10,
   "metadata": {
    "id": "4oHv89_XrUHq"
   },
   "outputs": [],
   "source": [
    "# import time\n",
    "# for fileN in svs_numbers:\n",
    "#   svs_file_path = svs_path +'/'+ str(fileN)+'.svs'\n",
    "#   print(svs_file_path)\n",
    "#   now = pd.Timestamp.now()\n",
    "#   success = True\n",
    "\n",
    "# #   tile_pth = '/content/drive/MyDrive/ImgFiles/Tile'\n",
    "\n",
    "#   try:\n",
    "#     !python 00_preprocessing/0b_tileLoop_deepzoom6.py -s 512 -e 0 -j 2 -B 50 -M 20 -x \"{svs_path}\" -o \"{tile_path}\" \"{svs_file_path}\"\n",
    "#   except Exception as e:\n",
    "#     success = False\n",
    "#     print(e)\n",
    "#   end = pd.Timestamp.now()\n",
    "#   try:\n",
    "#     if success == True:\n",
    "#         df = df.append({'File Number': fileN, 'Start Time': start_time, 'End Time': end_time, 'Duration': end_time - start_time, 'Success': success}, ignore_index=True)\n",
    "  \n",
    "#   except Exception as e:\n",
    "#     pass\n",
    "        \n",
    "#   df.to_csv(csv_path)\n",
    "#   print(f\"number {fileN} executed\")"
   ]
  },
  {
   "cell_type": "code",
   "execution_count": 19,
   "metadata": {},
   "outputs": [
    {
     "data": {
      "text/html": [
       "<div>\n",
       "<style scoped>\n",
       "    .dataframe tbody tr th:only-of-type {\n",
       "        vertical-align: middle;\n",
       "    }\n",
       "\n",
       "    .dataframe tbody tr th {\n",
       "        vertical-align: top;\n",
       "    }\n",
       "\n",
       "    .dataframe thead th {\n",
       "        text-align: right;\n",
       "    }\n",
       "</style>\n",
       "<table border=\"1\" class=\"dataframe\">\n",
       "  <thead>\n",
       "    <tr style=\"text-align: right;\">\n",
       "      <th></th>\n",
       "      <th>Unnamed: 0</th>\n",
       "      <th>ID</th>\n",
       "      <th>STime</th>\n",
       "      <th>TTime</th>\n",
       "      <th>Time</th>\n",
       "      <th>Succeed</th>\n",
       "    </tr>\n",
       "  </thead>\n",
       "  <tbody>\n",
       "    <tr>\n",
       "      <th>21</th>\n",
       "      <td>21</td>\n",
       "      <td>1028159</td>\n",
       "      <td>2024-04-03 06:18:48.801316</td>\n",
       "      <td>2024-04-03 06:39:47.215965</td>\n",
       "      <td>0 days 00:20:58.414649</td>\n",
       "      <td>True</td>\n",
       "    </tr>\n",
       "    <tr>\n",
       "      <th>22</th>\n",
       "      <td>22</td>\n",
       "      <td>1028160</td>\n",
       "      <td>2024-04-03 06:39:47.325402</td>\n",
       "      <td>2024-04-03 06:50:03.467283</td>\n",
       "      <td>0 days 00:10:16.141881</td>\n",
       "      <td>True</td>\n",
       "    </tr>\n",
       "    <tr>\n",
       "      <th>23</th>\n",
       "      <td>23</td>\n",
       "      <td>1028161</td>\n",
       "      <td>2024-04-03 06:50:03.538050</td>\n",
       "      <td>2024-04-03 07:15:40.575273</td>\n",
       "      <td>0 days 00:25:37.037223</td>\n",
       "      <td>True</td>\n",
       "    </tr>\n",
       "    <tr>\n",
       "      <th>24</th>\n",
       "      <td>24</td>\n",
       "      <td>1028162</td>\n",
       "      <td>2024-04-03 07:15:40.777934</td>\n",
       "      <td>2024-04-03 07:20:25.044392</td>\n",
       "      <td>0 days 00:04:44.266458</td>\n",
       "      <td>True</td>\n",
       "    </tr>\n",
       "    <tr>\n",
       "      <th>25</th>\n",
       "      <td>25</td>\n",
       "      <td>1028164</td>\n",
       "      <td>2024-04-03 07:20:25.066339</td>\n",
       "      <td>2024-04-03 07:28:38.813034</td>\n",
       "      <td>0 days 00:08:13.746695</td>\n",
       "      <td>True</td>\n",
       "    </tr>\n",
       "  </tbody>\n",
       "</table>\n",
       "</div>"
      ],
      "text/plain": [
       "    Unnamed: 0       ID                       STime  \\\n",
       "21          21  1028159  2024-04-03 06:18:48.801316   \n",
       "22          22  1028160  2024-04-03 06:39:47.325402   \n",
       "23          23  1028161  2024-04-03 06:50:03.538050   \n",
       "24          24  1028162  2024-04-03 07:15:40.777934   \n",
       "25          25  1028164  2024-04-03 07:20:25.066339   \n",
       "\n",
       "                         TTime                    Time  Succeed  \n",
       "21  2024-04-03 06:39:47.215965  0 days 00:20:58.414649     True  \n",
       "22  2024-04-03 06:50:03.467283  0 days 00:10:16.141881     True  \n",
       "23  2024-04-03 07:15:40.575273  0 days 00:25:37.037223     True  \n",
       "24  2024-04-03 07:20:25.044392  0 days 00:04:44.266458     True  \n",
       "25  2024-04-03 07:28:38.813034  0 days 00:08:13.746695     True  "
      ]
     },
     "execution_count": 19,
     "metadata": {},
     "output_type": "execute_result"
    }
   ],
   "source": [
    "df.tail()"
   ]
  },
  {
   "cell_type": "code",
   "execution_count": null,
   "metadata": {},
   "outputs": [],
   "source": []
  }
 ],
 "metadata": {
  "colab": {
   "include_colab_link": true,
   "provenance": []
  },
  "kernelspec": {
   "display_name": "Python 3 (ipykernel)",
   "language": "python",
   "name": "python3"
  },
  "language_info": {
   "codemirror_mode": {
    "name": "ipython",
    "version": 3
   },
   "file_extension": ".py",
   "mimetype": "text/x-python",
   "name": "python",
   "nbconvert_exporter": "python",
   "pygments_lexer": "ipython3",
   "version": "3.11.5"
  }
 },
 "nbformat": 4,
 "nbformat_minor": 1
}
