{
  "nbformat": 4,
  "nbformat_minor": 0,
  "metadata": {
    "colab": {
      "provenance": [],
      "mount_file_id": "1JHxVjihwmSadGVJp332zkvtEa_3EpV_g",
      "authorship_tag": "ABX9TyOT897LCpgVPmQ2T3f7I8Zs",
      "include_colab_link": true
    },
    "kernelspec": {
      "name": "python3",
      "display_name": "Python 3"
    },
    "language_info": {
      "name": "python"
    }
  },
  "cells": [
    {
      "cell_type": "markdown",
      "metadata": {
        "id": "view-in-github",
        "colab_type": "text"
      },
      "source": [
        "<a href=\"https://colab.research.google.com/github/mikoesnim0/DigitalCPATH-research/blob/main/ImgeTile512.ipynb\" target=\"_parent\"><img src=\"https://colab.research.google.com/assets/colab-badge.svg\" alt=\"Open In Colab\"/></a>"
      ]
    },
    {
      "cell_type": "code",
      "source": [
        "from google.colab import drive\n",
        "drive.mount('/content/drive')"
      ],
      "metadata": {
        "colab": {
          "base_uri": "https://localhost:8080/"
        },
        "id": "PBwDwAokifCU",
        "outputId": "7e30761a-80b1-4961-f92d-e4b8e8d56664"
      },
      "execution_count": null,
      "outputs": [
        {
          "output_type": "stream",
          "name": "stdout",
          "text": [
            "Drive already mounted at /content/drive; to attempt to forcibly remount, call drive.mount(\"/content/drive\", force_remount=True).\n"
          ]
        }
      ]
    },
    {
      "cell_type": "code",
      "source": [
        "!git clone https://github.com/ncoudray/DeepPATH.git"
      ],
      "metadata": {
        "colab": {
          "base_uri": "https://localhost:8080/"
        },
        "id": "JW7d_7Jdh2S9",
        "outputId": "c8685397-9524-42f7-8a8f-4de496976ff7"
      },
      "execution_count": null,
      "outputs": [
        {
          "output_type": "stream",
          "name": "stdout",
          "text": [
            "Cloning into 'DeepPATH'...\n",
            "remote: Enumerating objects: 2977, done.\u001b[K\n",
            "remote: Counting objects: 100% (494/494), done.\u001b[K\n",
            "remote: Compressing objects: 100% (207/207), done.\u001b[K\n",
            "remote: Total 2977 (delta 297), reused 473 (delta 286), pack-reused 2483\u001b[K\n",
            "Receiving objects: 100% (2977/2977), 11.03 MiB | 12.45 MiB/s, done.\n",
            "Resolving deltas: 100% (1716/1716), done.\n"
          ]
        }
      ]
    },
    {
      "cell_type": "code",
      "source": [
        "%cd \"/content/DeepPATH/DeepPATH_code\""
      ],
      "metadata": {
        "colab": {
          "base_uri": "https://localhost:8080/"
        },
        "id": "Bzeqq5uHiSJh",
        "outputId": "f7c15cfd-94f3-4000-8eb6-8c184b2f85c8"
      },
      "execution_count": null,
      "outputs": [
        {
          "output_type": "stream",
          "name": "stdout",
          "text": [
            "/content/DeepPATH/DeepPATH_code\n"
          ]
        }
      ]
    },
    {
      "cell_type": "code",
      "source": [
        "#importing openslide,\n",
        "# !pip install openslide\n",
        "!pip install openslide-python  # For handling slide images\n",
        "#3rd 시도\n",
        "!apt-get install openslide-tools  # Install Openslide\n",
        "!pip install openslide-python    # Install Python bindings for Openslide"
      ],
      "metadata": {
        "colab": {
          "base_uri": "https://localhost:8080/"
        },
        "id": "ClL923BTh8Ui",
        "outputId": "271c43bc-05a0-4828-918f-142d4e08c82e"
      },
      "execution_count": null,
      "outputs": [
        {
          "output_type": "stream",
          "name": "stdout",
          "text": [
            "Collecting openslide-python\n",
            "  Downloading openslide-python-1.3.1.tar.gz (358 kB)\n",
            "\u001b[2K     \u001b[90m━━━━━━━━━━━━━━━━━━━━━━━━━━━━━━━━━━━━━━━━\u001b[0m \u001b[32m359.0/359.0 kB\u001b[0m \u001b[31m4.8 MB/s\u001b[0m eta \u001b[36m0:00:00\u001b[0m\n",
            "\u001b[?25h  Preparing metadata (setup.py) ... \u001b[?25l\u001b[?25hdone\n",
            "Requirement already satisfied: Pillow in /usr/local/lib/python3.10/dist-packages (from openslide-python) (9.4.0)\n",
            "Building wheels for collected packages: openslide-python\n",
            "  Building wheel for openslide-python (setup.py) ... \u001b[?25l\u001b[?25hdone\n",
            "  Created wheel for openslide-python: filename=openslide_python-1.3.1-cp310-cp310-linux_x86_64.whl size=33549 sha256=52426b8d94e3b56efce446dbd500c60dc225b01ce42c72fab70003a269d037d0\n",
            "  Stored in directory: /root/.cache/pip/wheels/79/79/fa/29a0087493c69dff7fd0b70fab5d6771002a531010161d2d97\n",
            "Successfully built openslide-python\n",
            "Installing collected packages: openslide-python\n",
            "Successfully installed openslide-python-1.3.1\n",
            "Reading package lists... Done\n",
            "Building dependency tree... Done\n",
            "Reading state information... Done\n",
            "The following additional packages will be installed:\n",
            "  libopenslide0\n",
            "Suggested packages:\n",
            "  libtiff-tools\n",
            "The following NEW packages will be installed:\n",
            "  libopenslide0 openslide-tools\n",
            "0 upgraded, 2 newly installed, 0 to remove and 39 not upgraded.\n",
            "Need to get 104 kB of archives.\n",
            "After this operation, 297 kB of additional disk space will be used.\n",
            "Get:1 http://archive.ubuntu.com/ubuntu jammy/universe amd64 libopenslide0 amd64 3.4.1+dfsg-5build1 [89.8 kB]\n",
            "Get:2 http://archive.ubuntu.com/ubuntu jammy/universe amd64 openslide-tools amd64 3.4.1+dfsg-5build1 [13.8 kB]\n",
            "Fetched 104 kB in 0s (559 kB/s)\n",
            "Selecting previously unselected package libopenslide0.\n",
            "(Reading database ... 121753 files and directories currently installed.)\n",
            "Preparing to unpack .../libopenslide0_3.4.1+dfsg-5build1_amd64.deb ...\n",
            "Unpacking libopenslide0 (3.4.1+dfsg-5build1) ...\n",
            "Selecting previously unselected package openslide-tools.\n",
            "Preparing to unpack .../openslide-tools_3.4.1+dfsg-5build1_amd64.deb ...\n",
            "Unpacking openslide-tools (3.4.1+dfsg-5build1) ...\n",
            "Setting up libopenslide0 (3.4.1+dfsg-5build1) ...\n",
            "Setting up openslide-tools (3.4.1+dfsg-5build1) ...\n",
            "Processing triggers for man-db (2.10.2-1) ...\n",
            "Processing triggers for libc-bin (2.35-0ubuntu3.4) ...\n",
            "/sbin/ldconfig.real: /usr/local/lib/libtbbmalloc.so.2 is not a symbolic link\n",
            "\n",
            "/sbin/ldconfig.real: /usr/local/lib/libtbbbind.so.3 is not a symbolic link\n",
            "\n",
            "/sbin/ldconfig.real: /usr/local/lib/libtbbbind_2_5.so.3 is not a symbolic link\n",
            "\n",
            "/sbin/ldconfig.real: /usr/local/lib/libtbb.so.12 is not a symbolic link\n",
            "\n",
            "/sbin/ldconfig.real: /usr/local/lib/libtbbmalloc_proxy.so.2 is not a symbolic link\n",
            "\n",
            "/sbin/ldconfig.real: /usr/local/lib/libtbbbind_2_0.so.3 is not a symbolic link\n",
            "\n",
            "Requirement already satisfied: openslide-python in /usr/local/lib/python3.10/dist-packages (1.3.1)\n",
            "Requirement already satisfied: Pillow in /usr/local/lib/python3.10/dist-packages (from openslide-python) (9.4.0)\n"
          ]
        }
      ]
    },
    {
      "cell_type": "code",
      "source": [
        "#연동되는 xml 파일 확인\n",
        "import re\n",
        "import glob\n",
        "# Define the paths\n",
        "svs_path = \"/content/drive/MyDrive/ImgFiles\"\n",
        "\n"
      ],
      "metadata": {
        "id": "kRHr-mp9iFJG"
      },
      "execution_count": null,
      "outputs": []
    },
    {
      "cell_type": "code",
      "source": [
        "# Function to extract file numbers from file paths\n",
        "def extract_file_number(file_path):\n",
        "    # Use regular expression to extract the file number\n",
        "    match = re.search(r'(\\d+)\\.(svs|xml)$', file_path)\n",
        "    if match:\n",
        "        return match.group(1)\n",
        "    else:\n",
        "        return None\n",
        "\n",
        "# Extract file numbers from SVS and XML files\n",
        "svs_numbers = [extract_file_number(file) for file in svs_files]\n",
        "svs_numbers = [number for number in svs_numbers if number is not None]"
      ],
      "metadata": {
        "id": "9pk5e1Wc9oIr"
      },
      "execution_count": null,
      "outputs": []
    },
    {
      "cell_type": "code",
      "source": [
        "import pandas as pd\n",
        "import time\n",
        "csv_path = svs_path + '/logue.csv'\n",
        "\n",
        "data = {\n",
        "    'ID': [],\n",
        "    'STime': [],\n",
        "    'TTime': [],\n",
        "    'Time':[]\n",
        "}\n",
        "df = pd.dataFrame(data)\n",
        "pd.to_csv(csv_path, df)"
      ],
      "metadata": {
        "id": "G5MPJGz07hzC"
      },
      "execution_count": null,
      "outputs": []
    },
    {
      "cell_type": "code",
      "source": [
        "# Iterate over files in batches\n",
        "fileN = file_numbers[0]\n",
        "svs_file_path = os.path.join(svs_path,fileN + '.svs')\n",
        "print(svs_file_path)"
      ],
      "metadata": {
        "id": "5y3jH3_c9p4r"
      },
      "execution_count": null,
      "outputs": []
    },
    {
      "cell_type": "code",
      "source": [],
      "metadata": {
        "id": "pKRNIszv9muD"
      },
      "execution_count": null,
      "outputs": []
    },
    {
      "cell_type": "code",
      "source": [
        "#svs 파일 업로드되거나 일단 타일링 또는 진행중인 파일이 무엇인지 표시되도록 하는 기능 추가 필요.\n",
        "import time\n",
        "for fileN in svs_numbers:\n",
        "  svs_file_path = svs_path +'/'+ str(fileN)+'.svs'\n",
        "  print(svs_file_path)\n",
        "  now = pd.Timestamp.now()\n",
        "\n",
        "  try:\n",
        "    !python 00_preprocessing/0b_tileLoop_deepzoom6.py -s 512 -e 0 -j 2 -B 50 -M 20 -x \"{svs_path}\" -o \"{tile_path}\" \"{svs_file_path}\"\n",
        "  except:\n",
        "    pass\n",
        "  df.loc[-1] = [fileN, now, pd.Timestamp.now() ]  # adding a row\n",
        "  pd.to_csv(csv_path, df)"
      ],
      "metadata": {
        "id": "EdYunu6G7DCb"
      },
      "execution_count": null,
      "outputs": []
    }
  ]
}