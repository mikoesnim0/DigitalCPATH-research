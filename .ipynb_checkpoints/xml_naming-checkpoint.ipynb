{
 "cells": [
  {
   "cell_type": "markdown",
   "id": "ebd44e00",
   "metadata": {},
   "source": [
    "# OS controlling"
   ]
  },
  {
   "cell_type": "code",
   "execution_count": 2,
   "id": "b251bb08",
   "metadata": {},
   "outputs": [
    {
     "data": {
      "text/plain": [
       "'C:\\\\Users\\\\USER\\\\GNU_research\\\\DigitalCPATH-research'"
      ]
     },
     "execution_count": 2,
     "metadata": {},
     "output_type": "execute_result"
    }
   ],
   "source": [
    "import os\n",
    "os.getcwd()"
   ]
  },
  {
   "cell_type": "code",
   "execution_count": 7,
   "id": "e4ee9521",
   "metadata": {},
   "outputs": [],
   "source": [
    "this_file = os.path.abspath('xml_naming.ipynb')\n",
    "print(os.path.abspath(' .'))\n",
    "#내가 쓴 코드 정도는 꾸준히 복습을 하는 것이 매우 도움이 될 것일진대. 어떻게 해야 할까/ 생각중.\n",
    "print(os.path.relpath(this_file))\n",
    "#상대경로 출력"
   ]
  },
  {
   "cell_type": "code",
   "execution_count": 11,
   "id": "012409b1",
   "metadata": {},
   "outputs": [
    {
     "name": "stdout",
     "output_type": "stream",
     "text": [
      "xml_naming.ipynb\n",
      "C:\\Users\\USER\\GNU_research\\DigitalCPATH-research\n"
     ]
    }
   ],
   "source": [
    "print(os.path.basename(this_file))\n",
    "print(os.path.dirname(this_file))"
   ]
  },
  {
   "cell_type": "code",
   "execution_count": 12,
   "id": "9fdd1754",
   "metadata": {},
   "outputs": [
    {
     "data": {
      "text/plain": [
       "('C:\\\\Users\\\\USER\\\\GNU_research\\\\DigitalCPATH-research', 'xml_naming.ipynb')"
      ]
     },
     "execution_count": 12,
     "metadata": {},
     "output_type": "execute_result"
    }
   ],
   "source": [
    "os.path.split(this_file)"
   ]
  },
  {
   "cell_type": "code",
   "execution_count": 18,
   "id": "af3574b7",
   "metadata": {},
   "outputs": [
    {
     "data": {
      "text/plain": [
       "['C:',\n",
       " 'Users',\n",
       " 'USER',\n",
       " 'GNU_research',\n",
       " 'DigitalCPATH-research',\n",
       " 'xml_naming.ipynb']"
      ]
     },
     "execution_count": 18,
     "metadata": {},
     "output_type": "execute_result"
    }
   ],
   "source": [
    "this_file.split(os.path.sep)"
   ]
  },
  {
   "cell_type": "code",
   "execution_count": 17,
   "id": "4034c285",
   "metadata": {},
   "outputs": [],
   "source": [
    "os.path.sep = '\\\\'"
   ]
  },
  {
   "cell_type": "code",
   "execution_count": 19,
   "id": "8e8f264a",
   "metadata": {},
   "outputs": [
    {
     "data": {
      "text/plain": [
       "True"
      ]
     },
     "execution_count": 19,
     "metadata": {},
     "output_type": "execute_result"
    }
   ],
   "source": [
    "os.path.exists(this_file)"
   ]
  },
  {
   "cell_type": "code",
   "execution_count": 28,
   "id": "a33b4616",
   "metadata": {},
   "outputs": [
    {
     "data": {
      "text/plain": [
       "True"
      ]
     },
     "execution_count": 28,
     "metadata": {},
     "output_type": "execute_result"
    }
   ],
   "source": [
    "os.path.exists('E:')"
   ]
  },
  {
   "cell_type": "code",
   "execution_count": 30,
   "id": "d3cb8d3b",
   "metadata": {},
   "outputs": [
    {
     "data": {
      "text/plain": [
       "['.git',\n",
       " '.ipynb_checkpoints',\n",
       " '240317_ImageFolderUsing_deeppath.ipynb',\n",
       " 'Follicular_neoplasm_dataset.ipynb',\n",
       " 'ImgeTile512.ipynb',\n",
       " 'logChart.ipynb',\n",
       " 'Preprocessing',\n",
       " 'README.md',\n",
       " 'Untitled.ipynb',\n",
       " 'Untitled0.ipynb',\n",
       " 'Untitled1-Copy1.ipynb',\n",
       " 'Untitled1.ipynb',\n",
       " 'xml_naming.ipynb']"
      ]
     },
     "execution_count": 30,
     "metadata": {},
     "output_type": "execute_result"
    }
   ],
   "source": [
    "os.listdir()"
   ]
  },
  {
   "cell_type": "code",
   "execution_count": 31,
   "id": "99d7ce20",
   "metadata": {},
   "outputs": [
    {
     "ename": "FileNotFoundError",
     "evalue": "[Errno 2] No such file or directory: 'example_file_learning.txt'",
     "output_type": "error",
     "traceback": [
      "\u001b[1;31m---------------------------------------------------------------------------\u001b[0m",
      "\u001b[1;31mFileNotFoundError\u001b[0m                         Traceback (most recent call last)",
      "Cell \u001b[1;32mIn[31], line 1\u001b[0m\n\u001b[1;32m----> 1\u001b[0m \u001b[38;5;28mopen\u001b[39m(\u001b[38;5;124m'\u001b[39m\u001b[38;5;124mexample_file_learning.txt\u001b[39m\u001b[38;5;124m'\u001b[39m)\n",
      "File \u001b[1;32m~\\anaconda3\\Lib\\site-packages\\IPython\\core\\interactiveshell.py:286\u001b[0m, in \u001b[0;36m_modified_open\u001b[1;34m(file, *args, **kwargs)\u001b[0m\n\u001b[0;32m    279\u001b[0m \u001b[38;5;28;01mif\u001b[39;00m file \u001b[38;5;129;01min\u001b[39;00m {\u001b[38;5;241m0\u001b[39m, \u001b[38;5;241m1\u001b[39m, \u001b[38;5;241m2\u001b[39m}:\n\u001b[0;32m    280\u001b[0m     \u001b[38;5;28;01mraise\u001b[39;00m \u001b[38;5;167;01mValueError\u001b[39;00m(\n\u001b[0;32m    281\u001b[0m         \u001b[38;5;124mf\u001b[39m\u001b[38;5;124m\"\u001b[39m\u001b[38;5;124mIPython won\u001b[39m\u001b[38;5;124m'\u001b[39m\u001b[38;5;124mt let you open fd=\u001b[39m\u001b[38;5;132;01m{\u001b[39;00mfile\u001b[38;5;132;01m}\u001b[39;00m\u001b[38;5;124m by default \u001b[39m\u001b[38;5;124m\"\u001b[39m\n\u001b[0;32m    282\u001b[0m         \u001b[38;5;124m\"\u001b[39m\u001b[38;5;124mas it is likely to crash IPython. If you know what you are doing, \u001b[39m\u001b[38;5;124m\"\u001b[39m\n\u001b[0;32m    283\u001b[0m         \u001b[38;5;124m\"\u001b[39m\u001b[38;5;124myou can use builtins\u001b[39m\u001b[38;5;124m'\u001b[39m\u001b[38;5;124m open.\u001b[39m\u001b[38;5;124m\"\u001b[39m\n\u001b[0;32m    284\u001b[0m     )\n\u001b[1;32m--> 286\u001b[0m \u001b[38;5;28;01mreturn\u001b[39;00m io_open(file, \u001b[38;5;241m*\u001b[39margs, \u001b[38;5;241m*\u001b[39m\u001b[38;5;241m*\u001b[39mkwargs)\n",
      "\u001b[1;31mFileNotFoundError\u001b[0m: [Errno 2] No such file or directory: 'example_file_learning.txt'"
     ]
    }
   ],
   "source": [
    "open('example_file_learning.txt')"
   ]
  },
  {
   "cell_type": "code",
   "execution_count": 36,
   "id": "a304a3ef",
   "metadata": {},
   "outputs": [
    {
     "data": {
      "text/plain": [
       "'C:\\\\Users\\\\USER\\\\GNU_research\\\\DigitalCPATH-research\\\\example_file_learning.txt'"
      ]
     },
     "execution_count": 36,
     "metadata": {},
     "output_type": "execute_result"
    }
   ],
   "source": [
    "file_path = 'example_file_learning.txt'\n",
    "file_path = os.path.abspath('.') + os.path.sep + file_path\n",
    "file_path"
   ]
  },
  {
   "cell_type": "code",
   "execution_count": 37,
   "id": "c654a4a5",
   "metadata": {},
   "outputs": [],
   "source": [
    "with open(file_path, 'w') as file:\n",
    "    file.write(\"Hello, World!\")"
   ]
  },
  {
   "cell_type": "code",
   "execution_count": 38,
   "id": "35f68bd8",
   "metadata": {},
   "outputs": [],
   "source": [
    "file.close()"
   ]
  },
  {
   "cell_type": "code",
   "execution_count": 46,
   "id": "5d7b5c05",
   "metadata": {},
   "outputs": [
    {
     "data": {
      "text/plain": [
       "'Hello, World!'"
      ]
     },
     "execution_count": 46,
     "metadata": {},
     "output_type": "execute_result"
    }
   ],
   "source": [
    "file.close()\n",
    "file = open(file_path, 'r')\n",
    "file.read()"
   ]
  },
  {
   "cell_type": "code",
   "execution_count": 47,
   "id": "8da6b791",
   "metadata": {},
   "outputs": [
    {
     "data": {
      "text/plain": [
       "''"
      ]
     },
     "execution_count": 47,
     "metadata": {},
     "output_type": "execute_result"
    }
   ],
   "source": [
    "file.readline()"
   ]
  },
  {
   "cell_type": "code",
   "execution_count": 59,
   "id": "17f4c773",
   "metadata": {},
   "outputs": [],
   "source": [
    "file.close()\n",
    "file = open(file_path, 'a')\n"
   ]
  },
  {
   "cell_type": "code",
   "execution_count": 61,
   "id": "6bfc4740",
   "metadata": {},
   "outputs": [
    {
     "data": {
      "text/plain": [
       "13"
      ]
     },
     "execution_count": 61,
     "metadata": {},
     "output_type": "execute_result"
    }
   ],
   "source": [
    "file.write('Baconis not a vegi')\n",
    "file.write(\"Hello, World!\")"
   ]
  },
  {
   "cell_type": "code",
   "execution_count": 62,
   "id": "b1e883b5",
   "metadata": {},
   "outputs": [],
   "source": [
    "file.close()"
   ]
  },
  {
   "cell_type": "code",
   "execution_count": 63,
   "id": "a227f828",
   "metadata": {},
   "outputs": [],
   "source": [
    "file = open(file_path, 'r')\n",
    "content = file.read()\n",
    "file.close()"
   ]
  },
  {
   "cell_type": "code",
   "execution_count": 64,
   "id": "86e2988e",
   "metadata": {},
   "outputs": [
    {
     "name": "stdout",
     "output_type": "stream",
     "text": [
      "Baconis not a vegiBaconis not a vegiHello, World!\n"
     ]
    }
   ],
   "source": [
    "print(content)"
   ]
  },
  {
   "cell_type": "code",
   "execution_count": null,
   "id": "3c1dc2e7",
   "metadata": {},
   "outputs": [],
   "source": []
  },
  {
   "cell_type": "markdown",
   "id": "c72be21f",
   "metadata": {},
   "source": [
    "## shelve module"
   ]
  },
  {
   "cell_type": "code",
   "execution_count": 71,
   "id": "8f69f061",
   "metadata": {},
   "outputs": [],
   "source": [
    "import shelve\n",
    "\n",
    "# Correcting the variable name to be consistent\n",
    "shelfFile = shelve.open('mydata')  # Note the lowercase 'i'\n",
    "cats = ['Zophie', 'Pooka', 'Simon']\n",
    "shelfFile['cats'] = cats\n",
    "shelfFile.close()  # Don't forget to close the shelve file after writing to it\n"
   ]
  },
  {
   "cell_type": "code",
   "execution_count": 73,
   "id": "8a2c35db",
   "metadata": {},
   "outputs": [
    {
     "data": {
      "text/plain": [
       "shelve.DbfilenameShelf"
      ]
     },
     "execution_count": 73,
     "metadata": {},
     "output_type": "execute_result"
    }
   ],
   "source": [
    "shelfFile = shelve.open('mydata')\n",
    "type(shelfFile)"
   ]
  },
  {
   "cell_type": "code",
   "execution_count": 74,
   "id": "0c2d865c",
   "metadata": {},
   "outputs": [
    {
     "data": {
      "text/plain": [
       "['Zophie', 'Pooka', 'Simon']"
      ]
     },
     "execution_count": 74,
     "metadata": {},
     "output_type": "execute_result"
    }
   ],
   "source": [
    "shelfFile['cats']"
   ]
  },
  {
   "cell_type": "code",
   "execution_count": 80,
   "id": "8996c897",
   "metadata": {},
   "outputs": [],
   "source": [
    "shelfFile.close()"
   ]
  },
  {
   "cell_type": "code",
   "execution_count": 81,
   "id": "2619ff2f",
   "metadata": {},
   "outputs": [],
   "source": [
    "shelfFIle = shelve.open('mydata')"
   ]
  },
  {
   "cell_type": "code",
   "execution_count": 83,
   "id": "4f10b04c",
   "metadata": {
    "scrolled": true
   },
   "outputs": [
    {
     "data": {
      "text/plain": [
       "['cats']"
      ]
     },
     "execution_count": 83,
     "metadata": {},
     "output_type": "execute_result"
    }
   ],
   "source": [
    "list(shelfFIle.keys())"
   ]
  },
  {
   "cell_type": "code",
   "execution_count": 84,
   "id": "54232a67",
   "metadata": {},
   "outputs": [],
   "source": [
    "shelfFIle.close()"
   ]
  },
  {
   "cell_type": "markdown",
   "id": "62dc6ba4",
   "metadata": {},
   "source": [
    "## importing Pprint"
   ]
  },
  {
   "cell_type": "code",
   "execution_count": null,
   "id": "c3a13441",
   "metadata": {},
   "outputs": [],
   "source": []
  },
  {
   "cell_type": "markdown",
   "id": "fe01b38a",
   "metadata": {},
   "source": [
    "# Making XML, SVS file mover"
   ]
  },
  {
   "cell_type": "code",
   "execution_count": 1,
   "id": "7cb3819d",
   "metadata": {},
   "outputs": [],
   "source": [
    "# first presetting\n",
    "dir_path = \"E:\\Follicular neoplasm\\Follicular_neoplasm_newfiles\"\n",
    "import os\n",
    "import re\n",
    "import shutil\n",
    "import glob"
   ]
  },
  {
   "cell_type": "code",
   "execution_count": 11,
   "id": "4a9759e6",
   "metadata": {},
   "outputs": [],
   "source": [
    "def process_files(dir_path):\n",
    "    for filename in os.listdir(dir_path):\n",
    "        # Check if the file is either .svs or .xml\n",
    "        if filename.endswith('.svs') or filename.endswith('.xml'):\n",
    "            # Extract the number from the filename\n",
    "            match = re.search(r'(\\d+)', filename)\n",
    "            if match:\n",
    "                number = int(match.group(1))\n",
    "                mod_number = number % 1000\n",
    "#             print(int(match.group()))\n",
    "                # Check the condition for the number\n",
    "                if 90 < mod_number < 112:\n",
    "                    new_number = number - 1\n",
    "                    new_filename = filename.replace(f'{number}', f'{new_number}')\n",
    "                    old_file_path = os.path.join(dir_path, filename)\n",
    "                    new_file_path = os.path.join(dir_path, new_filename)\n",
    "                    \n",
    "                    # Rename the file\n",
    "                    os.rename(old_file_path, new_file_path)\n",
    "                    print(f'Renamed {filename} to {new_filename}')\n"
   ]
  },
  {
   "cell_type": "code",
   "execution_count": 30,
   "id": "33bca96c",
   "metadata": {},
   "outputs": [],
   "source": [
    "def process_extension(directory, extension):\n",
    "    # Match all .svs files in the directory\n",
    "    pattern = f'*.{extension}'\n",
    "    files = glob.glob(os.path.join(directory, pattern))\n",
    "    \n",
    "    for file_path in files:\n",
    "        filename = os.path.basename(file_path)\n",
    "        # Extract the number from the filename directly\n",
    "        match = re.search(rf'(\\d+)\\.{extension}', filename)\n",
    "        if match:\n",
    "            number = int(match.group(1))\n",
    "            mod_number = number % 1000\n",
    "            \n",
    "            # Apply the renaming condition\n",
    "            if 90 < mod_number < 112:\n",
    "                new_number = number - 1\n",
    "                new_filename = filename.replace(f'{number}', f'{new_number}')\n",
    "                new_file_path = os.path.join(directory, new_filename)\n",
    "                \n",
    "                # Rename the file using shutil.move\n",
    "                try:\n",
    "#                     print(os.path.relpath(file_path), '*******', os.path.relpath(new_file_path))\n",
    "                    shutil.move(file_path, new_file_path)\n",
    "                    print(f'Renamed {filename} to {new_filename}')\n",
    "                except Exception as e:\n",
    "                    print(f'Error renaming {filename}: {e}')\n",
    "\n",
    "                    "
   ]
  },
  {
   "cell_type": "code",
   "execution_count": 31,
   "id": "1f8abca6",
   "metadata": {},
   "outputs": [
    {
     "name": "stdout",
     "output_type": "stream",
     "text": [
      "Renamed 1028091.xml to 1028090.xml\n",
      "Renamed 1028092.xml to 1028091.xml\n",
      "Renamed 1028093.xml to 1028092.xml\n",
      "Renamed 1028094.xml to 1028093.xml\n",
      "Renamed 1028096.xml to 1028095.xml\n",
      "Renamed 1028097.xml to 1028096.xml\n",
      "Renamed 1028098.xml to 1028097.xml\n",
      "Renamed 1028099.xml to 1028098.xml\n",
      "Renamed 1028100.xml to 1028099.xml\n",
      "Renamed 1028101.xml to 1028100.xml\n",
      "Renamed 1028102.xml to 1028101.xml\n",
      "Renamed 1028103.xml to 1028102.xml\n",
      "Renamed 1028104.xml to 1028103.xml\n",
      "Renamed 1028105.xml to 1028104.xml\n",
      "Renamed 1028106.xml to 1028105.xml\n",
      "Renamed 1028107.xml to 1028106.xml\n",
      "Renamed 1028108.xml to 1028107.xml\n",
      "Renamed 1028109.xml to 1028108.xml\n",
      "Renamed 1028111.xml to 1028110.xml\n"
     ]
    }
   ],
   "source": [
    "process_extension(dir_path, 'xml')"
   ]
  },
  {
   "cell_type": "markdown",
   "id": "c6737989",
   "metadata": {},
   "source": [
    "# Renaming Tiling Path dirs"
   ]
  },
  {
   "cell_type": "code",
   "execution_count": 33,
   "id": "6c25caed",
   "metadata": {},
   "outputs": [
    {
     "data": {
      "text/plain": [
       "['1028029.dzi',\n",
       " '1028029_files',\n",
       " '1028031.dzi',\n",
       " '1028031_files',\n",
       " '1028032.dzi',\n",
       " '1028032_files',\n",
       " '1028033.dzi',\n",
       " '1028033_files',\n",
       " '1028034.dzi',\n",
       " '1028034_files',\n",
       " '1028035.dzi',\n",
       " '1028035_files',\n",
       " '1028036.dzi',\n",
       " '1028036_files',\n",
       " '1028040.dzi',\n",
       " '1028040_files',\n",
       " '1028041.dzi',\n",
       " '1028041_files',\n",
       " '1028049.dzi',\n",
       " '1028049_files',\n",
       " '1028050.dzi',\n",
       " '1028050_files',\n",
       " '1028051.dzi',\n",
       " '1028051_files',\n",
       " '1028054.dzi',\n",
       " '1028054_files',\n",
       " '1028055.dzi',\n",
       " '1028055_files',\n",
       " '1028058.dzi',\n",
       " '1028058_files',\n",
       " '1028059.dzi',\n",
       " '1028059_files',\n",
       " '1028060.dzi',\n",
       " '1028060_files',\n",
       " '1028061.dzi',\n",
       " '1028061_files',\n",
       " '1028062.dzi',\n",
       " '1028062_files',\n",
       " '1028091.dzi',\n",
       " '1028091_files',\n",
       " '1028092.dzi',\n",
       " '1028092_files',\n",
       " '1028093.dzi',\n",
       " '1028093_files',\n",
       " '1028094.dzi',\n",
       " '1028094_files',\n",
       " '1028096.dzi',\n",
       " '1028096_files',\n",
       " '1028097.dzi',\n",
       " '1028097_files',\n",
       " '1028098.dzi',\n",
       " '1028098_files',\n",
       " '1028099.dzi',\n",
       " '1028099_files',\n",
       " '1028100.dzi',\n",
       " '1028100_files',\n",
       " '1028101.dzi',\n",
       " '1028101_files',\n",
       " '1028102.dzi',\n",
       " '1028102_files',\n",
       " '1028103.dzi',\n",
       " '1028103_files',\n",
       " '1028104.dzi',\n",
       " '1028104_files',\n",
       " '1028105.dzi',\n",
       " '1028105_files',\n",
       " '1028106.dzi',\n",
       " '1028106_files',\n",
       " '1028107.dzi',\n",
       " '1028107_files',\n",
       " '1028108.dzi',\n",
       " '1028108_files',\n",
       " '1028109.dzi',\n",
       " '1028109_files',\n",
       " '1028111.dzi',\n",
       " '1028111_files',\n",
       " '1028112.dzi',\n",
       " '1028112_files',\n",
       " '1028113.dzi',\n",
       " '1028113_files',\n",
       " '1028114.dzi',\n",
       " '1028114_files',\n",
       " '1028115.dzi',\n",
       " '1028115_files',\n",
       " '1028118.dzi',\n",
       " '1028118_files',\n",
       " '1028120.dzi',\n",
       " '1028120_files',\n",
       " '1028123.dzi',\n",
       " '1028123_files',\n",
       " '1028124.dzi',\n",
       " '1028124_files',\n",
       " '1028125.dzi',\n",
       " '1028125_files',\n",
       " '1028130.dzi',\n",
       " '1028130_files',\n",
       " '1028132.dzi',\n",
       " '1028132_files',\n",
       " '1028133.dzi',\n",
       " '1028133_files',\n",
       " '1028135.dzi',\n",
       " '1028135_files',\n",
       " '1028136.dzi',\n",
       " '1028136_files',\n",
       " '1028137.dzi',\n",
       " '1028137_files',\n",
       " '1028140.dzi',\n",
       " '1028140_files',\n",
       " '1028142.dzi',\n",
       " '1028142_files',\n",
       " '1028145.dzi',\n",
       " '1028145_files',\n",
       " '1028146.dzi',\n",
       " '1028146_files',\n",
       " '1028148.dzi',\n",
       " '1028148_files',\n",
       " '1028150.dzi',\n",
       " '1028150_files',\n",
       " '1028151.dzi',\n",
       " '1028151_files',\n",
       " '1028152.dzi',\n",
       " '1028152_files',\n",
       " '1028153.dzi',\n",
       " '1028153_files',\n",
       " '1028154.dzi',\n",
       " '1028154_files',\n",
       " '1028155.dzi',\n",
       " '1028155_files',\n",
       " '1028159.dzi',\n",
       " '1028159_files',\n",
       " '1028160.dzi',\n",
       " '1028160_files',\n",
       " '1028161.dzi',\n",
       " '1028161_files',\n",
       " '1028162.dzi',\n",
       " '1028162_files',\n",
       " '1028164.dzi',\n",
       " '1028164_files',\n",
       " '1028165_files',\n",
       " '1028166.dzi',\n",
       " '1028166_files',\n",
       " '1028167.dzi',\n",
       " '1028167_files',\n",
       " '1028171.dzi',\n",
       " '1028171_files',\n",
       " '1028172.dzi',\n",
       " '1028172_files',\n",
       " '1028177.dzi',\n",
       " '1028177_files',\n",
       " '1028178.dzi',\n",
       " '1028178_files',\n",
       " '1028179.dzi',\n",
       " '1028179_files',\n",
       " '1028180.dzi',\n",
       " '1028180_files',\n",
       " '1028181.dzi',\n",
       " '1028181_files',\n",
       " '1028182.dzi',\n",
       " '1028182_files',\n",
       " '1028185.dzi',\n",
       " '1028185_files',\n",
       " '1028253.dzi',\n",
       " '1028253_files',\n",
       " '1028254.dzi',\n",
       " '1028254_files',\n",
       " '1028255.dzi',\n",
       " '1028255_files',\n",
       " '1028256.dzi',\n",
       " '1028256_files',\n",
       " '1028258.dzi',\n",
       " '1028258_files',\n",
       " '1028259.dzi',\n",
       " '1028259_files',\n",
       " '1028260.dzi',\n",
       " '1028260_files',\n",
       " 'Follicular_adenoma_sample.zip',\n",
       " 'mask_1028029_.jpeg',\n",
       " 'mask_1028031_.jpeg',\n",
       " 'mask_1028032_.jpeg',\n",
       " 'mask_1028033_.jpeg',\n",
       " 'mask_1028034_.jpeg',\n",
       " 'mask_1028035_.jpeg',\n",
       " 'mask_1028036_.jpeg',\n",
       " 'mask_1028040_.jpeg',\n",
       " 'mask_1028041_.jpeg',\n",
       " 'mask_1028049_.jpeg',\n",
       " 'mask_1028050_.jpeg',\n",
       " 'mask_1028051_.jpeg',\n",
       " 'mask_1028054_.jpeg',\n",
       " 'mask_1028055_.jpeg',\n",
       " 'mask_1028058_.jpeg',\n",
       " 'mask_1028059_.jpeg',\n",
       " 'mask_1028060_.jpeg',\n",
       " 'mask_1028061_.jpeg',\n",
       " 'mask_1028062_.jpeg',\n",
       " 'mask_1028091_.jpeg',\n",
       " 'mask_1028092_.jpeg',\n",
       " 'mask_1028093_.jpeg',\n",
       " 'mask_1028094_.jpeg',\n",
       " 'mask_1028096_.jpeg',\n",
       " 'mask_1028097_.jpeg',\n",
       " 'mask_1028098_.jpeg',\n",
       " 'mask_1028099_.jpeg',\n",
       " 'mask_1028100_.jpeg',\n",
       " 'mask_1028101_.jpeg',\n",
       " 'mask_1028102_.jpeg',\n",
       " 'mask_1028103_.jpeg',\n",
       " 'mask_1028104_.jpeg',\n",
       " 'mask_1028105_.jpeg',\n",
       " 'mask_1028106_.jpeg',\n",
       " 'mask_1028107_.jpeg',\n",
       " 'mask_1028108_.jpeg',\n",
       " 'mask_1028109_.jpeg',\n",
       " 'mask_1028111_.jpeg',\n",
       " 'mask_1028112_.jpeg',\n",
       " 'mask_1028113_.jpeg',\n",
       " 'mask_1028114_.jpeg',\n",
       " 'mask_1028115_.jpeg',\n",
       " 'mask_1028118_.jpeg',\n",
       " 'mask_1028120_.jpeg',\n",
       " 'mask_1028123_.jpeg',\n",
       " 'mask_1028124_.jpeg',\n",
       " 'mask_1028125_.jpeg',\n",
       " 'mask_1028130_.jpeg',\n",
       " 'mask_1028132_.jpeg',\n",
       " 'mask_1028133_.jpeg',\n",
       " 'mask_1028135_.jpeg',\n",
       " 'mask_1028136_.jpeg',\n",
       " 'mask_1028137_.jpeg',\n",
       " 'mask_1028140_.jpeg',\n",
       " 'mask_1028142_.jpeg',\n",
       " 'mask_1028145_.jpeg',\n",
       " 'mask_1028146_.jpeg',\n",
       " 'mask_1028148_.jpeg',\n",
       " 'mask_1028150_.jpeg',\n",
       " 'mask_1028151_.jpeg',\n",
       " 'mask_1028152_.jpeg',\n",
       " 'mask_1028153_.jpeg',\n",
       " 'mask_1028154_.jpeg',\n",
       " 'mask_1028155_.jpeg',\n",
       " 'mask_1028159_.jpeg',\n",
       " 'mask_1028160_.jpeg',\n",
       " 'mask_1028161_.jpeg',\n",
       " 'mask_1028162_.jpeg',\n",
       " 'mask_1028164_.jpeg',\n",
       " 'mask_1028165_.jpeg',\n",
       " 'mask_1028166_.jpeg',\n",
       " 'mask_1028167_.jpeg',\n",
       " 'mask_1028171_.jpeg',\n",
       " 'mask_1028172_.jpeg',\n",
       " 'mask_1028177_.jpeg',\n",
       " 'mask_1028178_.jpeg',\n",
       " 'mask_1028179_.jpeg',\n",
       " 'mask_1028180_.jpeg',\n",
       " 'mask_1028181_.jpeg',\n",
       " 'mask_1028182_.jpeg',\n",
       " 'mask_1028185_.jpeg',\n",
       " 'mask_1028253_.jpeg',\n",
       " 'mask_1028254_.jpeg',\n",
       " 'mask_1028255_.jpeg',\n",
       " 'mask_1028256_.jpeg',\n",
       " 'mask_1028258_.jpeg',\n",
       " 'mask_1028259_.jpeg',\n",
       " 'mask_1028260_.jpeg',\n",
       " 'tiledFile',\n",
       " 'tiledFile3',\n",
       " 'w']"
      ]
     },
     "execution_count": 33,
     "metadata": {},
     "output_type": "execute_result"
    }
   ],
   "source": [
    "tile_dir = \"E:\\Follicular neoplasm\\ImgFIles\\Tile\"\n",
    "os.listdir(tile_dir)"
   ]
  },
  {
   "cell_type": "code",
   "execution_count": 34,
   "id": "04c25067",
   "metadata": {},
   "outputs": [],
   "source": [
    "def rename_directories(base_directory, start_num, end_num):\n",
    "    # List all directories in the base directory\n",
    "    directories = [d for d in os.listdir(base_directory) if os.path.isdir(os.path.join(base_directory, d))]\n",
    "    \n",
    "    for dirname in directories:\n",
    "        # Check if the directory name contains a numeric identifier\n",
    "        match = re.search(r'(\\d+)_files', dirname)\n",
    "        if match:\n",
    "            number = int(match.group(1))\n",
    "            if start_num <= number <= end_num:\n",
    "                new_number = number - 1\n",
    "                new_dirname = dirname.replace(str(number), str(new_number))\n",
    "                old_path = os.path.join(base_directory, dirname)\n",
    "                new_path = os.path.join(base_directory, new_dirname)\n",
    "                \n",
    "                # Rename the directory\n",
    "                try:\n",
    "#                     shutil.move(old_path, new_path)\n",
    "                    print(f'Renamed {dirname} to {new_dirname}')\n",
    "                except Exception as e:\n",
    "                    print(f'Error renaming {dirname}: {e}')\n"
   ]
  },
  {
   "cell_type": "code",
   "execution_count": 35,
   "id": "9d7927b1",
   "metadata": {},
   "outputs": [
    {
     "name": "stdout",
     "output_type": "stream",
     "text": [
      "Renamed 1028091_files to 1028090_files\n",
      "Renamed 1028092_files to 1028091_files\n",
      "Renamed 1028093_files to 1028092_files\n",
      "Renamed 1028094_files to 1028093_files\n",
      "Renamed 1028096_files to 1028095_files\n",
      "Renamed 1028097_files to 1028096_files\n",
      "Renamed 1028098_files to 1028097_files\n",
      "Renamed 1028099_files to 1028098_files\n",
      "Renamed 1028100_files to 1028099_files\n",
      "Renamed 1028101_files to 1028100_files\n",
      "Renamed 1028102_files to 1028101_files\n",
      "Renamed 1028103_files to 1028102_files\n",
      "Renamed 1028104_files to 1028103_files\n",
      "Renamed 1028105_files to 1028104_files\n",
      "Renamed 1028106_files to 1028105_files\n",
      "Renamed 1028107_files to 1028106_files\n",
      "Renamed 1028108_files to 1028107_files\n",
      "Renamed 1028109_files to 1028108_files\n",
      "Renamed 1028111_files to 1028110_files\n"
     ]
    }
   ],
   "source": [
    "rename_directories(tile_dir, 1028090, 1028111)"
   ]
  },
  {
   "cell_type": "code",
   "execution_count": 37,
   "id": "71dc3304",
   "metadata": {},
   "outputs": [],
   "source": [
    "def rename_files_and_directories(base_directory, start_num, end_num):\n",
    "    # Traverse through all files and directories within the base directory\n",
    "    for root, dirs, files in os.walk(base_directory, topdown=False):\n",
    "        # First rename files within the directories\n",
    "        for name in files:\n",
    "            filepath = os.path.join(root, name)\n",
    "            file_match = re.search(r'(\\d+)', name)\n",
    "            if file_match:\n",
    "                number = int(file_match.group(1))\n",
    "                if start_num <= number <= end_num:\n",
    "                    new_number = number - 1\n",
    "                    new_filename = re.sub(rf'{number}', str(new_number), name, 1)\n",
    "                    new_filepath = os.path.join(root, new_filename)\n",
    "                    try:\n",
    "#                         shutil.move(filepath, new_filepath)\n",
    "                        print(f'Renamed file {name} to {new_filename}')\n",
    "                    except Exception as e:\n",
    "                        print(f'Error renaming file {name}: {e}')\n",
    "\n",
    "        # Then rename directories\n",
    "        for name in dirs:\n",
    "            dirpath = os.path.join(root, name)\n",
    "            dir_match = re.search(r'(\\d+)', name)\n",
    "            if dir_match:\n",
    "                number = int(dir_match.group(1))\n",
    "                if start_num <= number <= end_num:\n",
    "                    new_number = number - 1\n",
    "                    new_dirname = re.sub(rf'{number}', str(new_number), name, 1)\n",
    "                    new_dirpath = os.path.join(root, new_dirname)\n",
    "                    try:\n",
    "#                         shutil.move(dirpath, new_dirpath)\n",
    "                        print(f'Renamed directory {name} to {new_dirname}')\n",
    "                    except Exception as e:\n",
    "                        print(f'Error renaming directory {name}: {e}')\n"
   ]
  },
  {
   "cell_type": "code",
   "execution_count": 39,
   "id": "d9a7689c",
   "metadata": {},
   "outputs": [
    {
     "name": "stdout",
     "output_type": "stream",
     "text": [
      "Renamed file 1028091.dzi to 1028090.dzi\n",
      "Renamed file 1028092.dzi to 1028091.dzi\n",
      "Renamed file 1028093.dzi to 1028092.dzi\n",
      "Renamed file 1028094.dzi to 1028093.dzi\n",
      "Renamed file 1028096.dzi to 1028095.dzi\n",
      "Renamed file 1028097.dzi to 1028096.dzi\n",
      "Renamed file 1028098.dzi to 1028097.dzi\n",
      "Renamed file 1028099.dzi to 1028098.dzi\n",
      "Renamed file 1028100.dzi to 1028099.dzi\n",
      "Renamed file 1028101.dzi to 1028100.dzi\n",
      "Renamed file 1028102.dzi to 1028101.dzi\n",
      "Renamed file 1028103.dzi to 1028102.dzi\n",
      "Renamed file 1028104.dzi to 1028103.dzi\n",
      "Renamed file 1028105.dzi to 1028104.dzi\n",
      "Renamed file 1028106.dzi to 1028105.dzi\n",
      "Renamed file 1028107.dzi to 1028106.dzi\n",
      "Renamed file 1028108.dzi to 1028107.dzi\n",
      "Renamed file 1028109.dzi to 1028108.dzi\n",
      "Renamed file 1028111.dzi to 1028110.dzi\n",
      "Renamed file mask_1028091_.jpeg to mask_1028090_.jpeg\n",
      "Renamed file mask_1028092_.jpeg to mask_1028091_.jpeg\n",
      "Renamed file mask_1028093_.jpeg to mask_1028092_.jpeg\n",
      "Renamed file mask_1028094_.jpeg to mask_1028093_.jpeg\n",
      "Renamed file mask_1028096_.jpeg to mask_1028095_.jpeg\n",
      "Renamed file mask_1028097_.jpeg to mask_1028096_.jpeg\n",
      "Renamed file mask_1028098_.jpeg to mask_1028097_.jpeg\n",
      "Renamed file mask_1028099_.jpeg to mask_1028098_.jpeg\n",
      "Renamed file mask_1028100_.jpeg to mask_1028099_.jpeg\n",
      "Renamed file mask_1028101_.jpeg to mask_1028100_.jpeg\n",
      "Renamed file mask_1028102_.jpeg to mask_1028101_.jpeg\n",
      "Renamed file mask_1028103_.jpeg to mask_1028102_.jpeg\n",
      "Renamed file mask_1028104_.jpeg to mask_1028103_.jpeg\n",
      "Renamed file mask_1028105_.jpeg to mask_1028104_.jpeg\n",
      "Renamed file mask_1028106_.jpeg to mask_1028105_.jpeg\n",
      "Renamed file mask_1028107_.jpeg to mask_1028106_.jpeg\n",
      "Renamed file mask_1028108_.jpeg to mask_1028107_.jpeg\n",
      "Renamed file mask_1028109_.jpeg to mask_1028108_.jpeg\n",
      "Renamed file mask_1028111_.jpeg to mask_1028110_.jpeg\n",
      "Renamed directory 1028091_files to 1028090_files\n",
      "Renamed directory 1028092_files to 1028091_files\n",
      "Renamed directory 1028093_files to 1028092_files\n",
      "Renamed directory 1028094_files to 1028093_files\n",
      "Renamed directory 1028096_files to 1028095_files\n",
      "Renamed directory 1028097_files to 1028096_files\n",
      "Renamed directory 1028098_files to 1028097_files\n",
      "Renamed directory 1028099_files to 1028098_files\n",
      "Renamed directory 1028100_files to 1028099_files\n",
      "Renamed directory 1028101_files to 1028100_files\n",
      "Renamed directory 1028102_files to 1028101_files\n",
      "Renamed directory 1028103_files to 1028102_files\n",
      "Renamed directory 1028104_files to 1028103_files\n",
      "Renamed directory 1028105_files to 1028104_files\n",
      "Renamed directory 1028106_files to 1028105_files\n",
      "Renamed directory 1028107_files to 1028106_files\n",
      "Renamed directory 1028108_files to 1028107_files\n",
      "Renamed directory 1028109_files to 1028108_files\n",
      "Renamed directory 1028111_files to 1028110_files\n"
     ]
    }
   ],
   "source": [
    "rename_files_and_directories(tile_dir, 1028090, 1028111)"
   ]
  },
  {
   "cell_type": "code",
   "execution_count": null,
   "id": "2a5ba0ae",
   "metadata": {},
   "outputs": [],
   "source": []
  }
 ],
 "metadata": {
  "kernelspec": {
   "display_name": "Python 3 (ipykernel)",
   "language": "python",
   "name": "python3"
  },
  "language_info": {
   "codemirror_mode": {
    "name": "ipython",
    "version": 3
   },
   "file_extension": ".py",
   "mimetype": "text/x-python",
   "name": "python",
   "nbconvert_exporter": "python",
   "pygments_lexer": "ipython3",
   "version": "3.11.5"
  }
 },
 "nbformat": 4,
 "nbformat_minor": 5
}
