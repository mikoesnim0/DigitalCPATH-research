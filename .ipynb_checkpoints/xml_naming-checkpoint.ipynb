{
 "cells": [
  {
   "cell_type": "code",
   "execution_count": 2,
   "id": "3c8a8039",
   "metadata": {},
   "outputs": [
    {
     "data": {
      "text/plain": [
       "'C:\\\\Users\\\\USER\\\\GNU_research\\\\DigitalCPATH-research'"
      ]
     },
     "execution_count": 2,
     "metadata": {},
     "output_type": "execute_result"
    }
   ],
   "source": [
    "import os\n",
    "os.getcwd()"
   ]
  },
  {
   "cell_type": "code",
   "execution_count": 7,
   "id": "5bd26a33",
   "metadata": {},
   "outputs": [],
   "source": [
    "this_file = os.path.abspath('xml_naming.ipynb')"
   ]
  },
  {
   "cell_type": "code",
   "execution_count": 6,
   "id": "91968463",
   "metadata": {},
   "outputs": [
    {
     "data": {
      "text/plain": [
       "'C:\\\\Users\\\\USER\\\\GNU_research\\\\DigitalCPATH-research\\\\'"
      ]
     },
     "execution_count": 6,
     "metadata": {},
     "output_type": "execute_result"
    }
   ],
   "source": [
    "os.path.abspath(' .')"
   ]
  },
  {
   "cell_type": "code",
   "execution_count": 8,
   "id": "9c34b572",
   "metadata": {},
   "outputs": [
    {
     "data": {
      "text/plain": [
       "'xml_naming.ipynb'"
      ]
     },
     "execution_count": 8,
     "metadata": {},
     "output_type": "execute_result"
    }
   ],
   "source": [
    "os.path.relpath(this_file)"
   ]
  },
  {
   "cell_type": "code",
   "execution_count": 11,
   "id": "2b42c053",
   "metadata": {},
   "outputs": [
    {
     "name": "stdout",
     "output_type": "stream",
     "text": [
      "xml_naming.ipynb\n",
      "C:\\Users\\USER\\GNU_research\\DigitalCPATH-research\n"
     ]
    }
   ],
   "source": [
    "print(os.path.basename(this_file))\n",
    "print(os.path.dirname(this_file))"
   ]
  },
  {
   "cell_type": "code",
   "execution_count": 12,
   "id": "4547f76b",
   "metadata": {},
   "outputs": [
    {
     "data": {
      "text/plain": [
       "('C:\\\\Users\\\\USER\\\\GNU_research\\\\DigitalCPATH-research', 'xml_naming.ipynb')"
      ]
     },
     "execution_count": 12,
     "metadata": {},
     "output_type": "execute_result"
    }
   ],
   "source": [
    "os.path.split(this_file)"
   ]
  },
  {
   "cell_type": "code",
   "execution_count": 18,
   "id": "b0824d2a",
   "metadata": {},
   "outputs": [
    {
     "data": {
      "text/plain": [
       "['C:',\n",
       " 'Users',\n",
       " 'USER',\n",
       " 'GNU_research',\n",
       " 'DigitalCPATH-research',\n",
       " 'xml_naming.ipynb']"
      ]
     },
     "execution_count": 18,
     "metadata": {},
     "output_type": "execute_result"
    }
   ],
   "source": [
    "this_file.split(os.path.sep)"
   ]
  },
  {
   "cell_type": "code",
   "execution_count": 17,
   "id": "d456e24e",
   "metadata": {},
   "outputs": [],
   "source": [
    "os.path.sep = '\\\\'"
   ]
  },
  {
   "cell_type": "code",
   "execution_count": 19,
   "id": "87723e00",
   "metadata": {},
   "outputs": [
    {
     "data": {
      "text/plain": [
       "True"
      ]
     },
     "execution_count": 19,
     "metadata": {},
     "output_type": "execute_result"
    }
   ],
   "source": [
    "os.path.exists(this_file)"
   ]
  },
  {
   "cell_type": "code",
   "execution_count": 28,
   "id": "8190a848",
   "metadata": {},
   "outputs": [
    {
     "data": {
      "text/plain": [
       "True"
      ]
     },
     "execution_count": 28,
     "metadata": {},
     "output_type": "execute_result"
    }
   ],
   "source": [
    "os.path.exists('E:')"
   ]
  },
  {
   "cell_type": "code",
   "execution_count": 30,
   "id": "7a279a49",
   "metadata": {},
   "outputs": [
    {
     "data": {
      "text/plain": [
       "['.git',\n",
       " '.ipynb_checkpoints',\n",
       " '240317_ImageFolderUsing_deeppath.ipynb',\n",
       " 'Follicular_neoplasm_dataset.ipynb',\n",
       " 'ImgeTile512.ipynb',\n",
       " 'logChart.ipynb',\n",
       " 'Preprocessing',\n",
       " 'README.md',\n",
       " 'Untitled.ipynb',\n",
       " 'Untitled0.ipynb',\n",
       " 'Untitled1-Copy1.ipynb',\n",
       " 'Untitled1.ipynb',\n",
       " 'xml_naming.ipynb']"
      ]
     },
     "execution_count": 30,
     "metadata": {},
     "output_type": "execute_result"
    }
   ],
   "source": [
    "os.listdir()"
   ]
  },
  {
   "cell_type": "code",
   "execution_count": 31,
   "id": "cd011ff8",
   "metadata": {},
   "outputs": [
    {
     "ename": "FileNotFoundError",
     "evalue": "[Errno 2] No such file or directory: 'example_file_learning.txt'",
     "output_type": "error",
     "traceback": [
      "\u001b[1;31m---------------------------------------------------------------------------\u001b[0m",
      "\u001b[1;31mFileNotFoundError\u001b[0m                         Traceback (most recent call last)",
      "Cell \u001b[1;32mIn[31], line 1\u001b[0m\n\u001b[1;32m----> 1\u001b[0m \u001b[38;5;28mopen\u001b[39m(\u001b[38;5;124m'\u001b[39m\u001b[38;5;124mexample_file_learning.txt\u001b[39m\u001b[38;5;124m'\u001b[39m)\n",
      "File \u001b[1;32m~\\anaconda3\\Lib\\site-packages\\IPython\\core\\interactiveshell.py:286\u001b[0m, in \u001b[0;36m_modified_open\u001b[1;34m(file, *args, **kwargs)\u001b[0m\n\u001b[0;32m    279\u001b[0m \u001b[38;5;28;01mif\u001b[39;00m file \u001b[38;5;129;01min\u001b[39;00m {\u001b[38;5;241m0\u001b[39m, \u001b[38;5;241m1\u001b[39m, \u001b[38;5;241m2\u001b[39m}:\n\u001b[0;32m    280\u001b[0m     \u001b[38;5;28;01mraise\u001b[39;00m \u001b[38;5;167;01mValueError\u001b[39;00m(\n\u001b[0;32m    281\u001b[0m         \u001b[38;5;124mf\u001b[39m\u001b[38;5;124m\"\u001b[39m\u001b[38;5;124mIPython won\u001b[39m\u001b[38;5;124m'\u001b[39m\u001b[38;5;124mt let you open fd=\u001b[39m\u001b[38;5;132;01m{\u001b[39;00mfile\u001b[38;5;132;01m}\u001b[39;00m\u001b[38;5;124m by default \u001b[39m\u001b[38;5;124m\"\u001b[39m\n\u001b[0;32m    282\u001b[0m         \u001b[38;5;124m\"\u001b[39m\u001b[38;5;124mas it is likely to crash IPython. If you know what you are doing, \u001b[39m\u001b[38;5;124m\"\u001b[39m\n\u001b[0;32m    283\u001b[0m         \u001b[38;5;124m\"\u001b[39m\u001b[38;5;124myou can use builtins\u001b[39m\u001b[38;5;124m'\u001b[39m\u001b[38;5;124m open.\u001b[39m\u001b[38;5;124m\"\u001b[39m\n\u001b[0;32m    284\u001b[0m     )\n\u001b[1;32m--> 286\u001b[0m \u001b[38;5;28;01mreturn\u001b[39;00m io_open(file, \u001b[38;5;241m*\u001b[39margs, \u001b[38;5;241m*\u001b[39m\u001b[38;5;241m*\u001b[39mkwargs)\n",
      "\u001b[1;31mFileNotFoundError\u001b[0m: [Errno 2] No such file or directory: 'example_file_learning.txt'"
     ]
    }
   ],
   "source": [
    "open('example_file_learning.txt')"
   ]
  },
  {
   "cell_type": "code",
   "execution_count": 36,
   "id": "bd324532",
   "metadata": {},
   "outputs": [
    {
     "data": {
      "text/plain": [
       "'C:\\\\Users\\\\USER\\\\GNU_research\\\\DigitalCPATH-research\\\\example_file_learning.txt'"
      ]
     },
     "execution_count": 36,
     "metadata": {},
     "output_type": "execute_result"
    }
   ],
   "source": [
    "file_path = 'example_file_learning.txt'\n",
    "file_path = os.path.abspath('.') + os.path.sep + file_path\n",
    "file_path"
   ]
  },
  {
   "cell_type": "code",
   "execution_count": 37,
   "id": "fa68dc79",
   "metadata": {},
   "outputs": [],
   "source": [
    "with open(file_path, 'w') as file:\n",
    "    file.write(\"Hello, World!\")"
   ]
  },
  {
   "cell_type": "code",
   "execution_count": 38,
   "id": "b4e27efd",
   "metadata": {},
   "outputs": [],
   "source": [
    "file.close()"
   ]
  },
  {
   "cell_type": "code",
   "execution_count": 46,
   "id": "fb679280",
   "metadata": {},
   "outputs": [
    {
     "data": {
      "text/plain": [
       "'Hello, World!'"
      ]
     },
     "execution_count": 46,
     "metadata": {},
     "output_type": "execute_result"
    }
   ],
   "source": [
    "file.close()\n",
    "file = open(file_path, 'r')\n",
    "file.read()"
   ]
  },
  {
   "cell_type": "code",
   "execution_count": 47,
   "id": "c458fd2f",
   "metadata": {},
   "outputs": [
    {
     "data": {
      "text/plain": [
       "''"
      ]
     },
     "execution_count": 47,
     "metadata": {},
     "output_type": "execute_result"
    }
   ],
   "source": [
    "file.readline()"
   ]
  },
  {
   "cell_type": "code",
   "execution_count": 59,
   "id": "dad9f6fc",
   "metadata": {},
   "outputs": [],
   "source": [
    "file.close()\n",
    "file = open(file_path, 'a')\n"
   ]
  },
  {
   "cell_type": "code",
   "execution_count": 61,
   "id": "947ce7c6",
   "metadata": {},
   "outputs": [
    {
     "data": {
      "text/plain": [
       "13"
      ]
     },
     "execution_count": 61,
     "metadata": {},
     "output_type": "execute_result"
    }
   ],
   "source": [
    "file.write('Baconis not a vegi')\n",
    "file.write(\"Hello, World!\")"
   ]
  },
  {
   "cell_type": "code",
   "execution_count": 62,
   "id": "285b67b5",
   "metadata": {},
   "outputs": [],
   "source": [
    "file.close()"
   ]
  },
  {
   "cell_type": "code",
   "execution_count": 63,
   "id": "1a58ea18",
   "metadata": {},
   "outputs": [],
   "source": [
    "file = open(file_path, 'r')\n",
    "content = file.read()\n",
    "file.close()"
   ]
  },
  {
   "cell_type": "code",
   "execution_count": 64,
   "id": "e8c1df44",
   "metadata": {},
   "outputs": [
    {
     "name": "stdout",
     "output_type": "stream",
     "text": [
      "Baconis not a vegiBaconis not a vegiHello, World!\n"
     ]
    }
   ],
   "source": [
    "print(content)"
   ]
  },
  {
   "cell_type": "code",
   "execution_count": null,
   "id": "d7999814",
   "metadata": {},
   "outputs": [],
   "source": []
  },
  {
   "cell_type": "markdown",
   "id": "9cd84bf3",
   "metadata": {},
   "source": [
    "## shelve module"
   ]
  },
  {
   "cell_type": "code",
   "execution_count": 67,
   "id": "e84db32f",
   "metadata": {},
   "outputs": [],
   "source": [
    "import shelve\n",
    "shelfFIle = shelve.open('mydata')"
   ]
  },
  {
   "cell_type": "code",
   "execution_count": 68,
   "id": "3c4247d1",
   "metadata": {},
   "outputs": [
    {
     "ename": "NameError",
     "evalue": "name 'shelfFile' is not defined",
     "output_type": "error",
     "traceback": [
      "\u001b[1;31m---------------------------------------------------------------------------\u001b[0m",
      "\u001b[1;31mNameError\u001b[0m                                 Traceback (most recent call last)",
      "Cell \u001b[1;32mIn[68], line 2\u001b[0m\n\u001b[0;32m      1\u001b[0m cats \u001b[38;5;241m=\u001b[39m [\u001b[38;5;124m'\u001b[39m\u001b[38;5;124mZophie\u001b[39m\u001b[38;5;124m'\u001b[39m, \u001b[38;5;124m'\u001b[39m\u001b[38;5;124mPooka\u001b[39m\u001b[38;5;124m'\u001b[39m, \u001b[38;5;124m'\u001b[39m\u001b[38;5;124mSimon\u001b[39m\u001b[38;5;124m'\u001b[39m]\n\u001b[1;32m----> 2\u001b[0m shelfFile[\u001b[38;5;124m'\u001b[39m\u001b[38;5;124mcats\u001b[39m\u001b[38;5;124m'\u001b[39m] \u001b[38;5;241m=\u001b[39m cats\n",
      "\u001b[1;31mNameError\u001b[0m: name 'shelfFile' is not defined"
     ]
    }
   ],
   "source": [
    "cats = ['Zophie', 'Pooka', 'Simon']\n",
    "shelfFile['cats'] = cats"
   ]
  },
  {
   "cell_type": "code",
   "execution_count": null,
   "id": "24ecb98c",
   "metadata": {},
   "outputs": [],
   "source": []
  }
 ],
 "metadata": {
  "kernelspec": {
   "display_name": "Python 3 (ipykernel)",
   "language": "python",
   "name": "python3"
  },
  "language_info": {
   "codemirror_mode": {
    "name": "ipython",
    "version": 3
   },
   "file_extension": ".py",
   "mimetype": "text/x-python",
   "name": "python",
   "nbconvert_exporter": "python",
   "pygments_lexer": "ipython3",
   "version": "3.11.5"
  }
 },
 "nbformat": 4,
 "nbformat_minor": 5
}
